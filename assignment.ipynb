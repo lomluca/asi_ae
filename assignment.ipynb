{
 "cells": [
  {
   "cell_type": "markdown",
   "metadata": {},
   "source": [
    "# 1 Importing libraries and loading data"
   ]
  },
  {
   "cell_type": "code",
   "execution_count": 1,
   "metadata": {},
   "outputs": [],
   "source": [
    "import numpy as np\n",
    "import matplotlib.pyplot as plt\n",
    "import pandas as pd\n",
    "from scipy.stats import norm\n",
    "from sklearn.metrics import confusion_matrix\n",
    "import seaborn as sns; sns.set()\n",
    "from sklearn.discriminant_analysis import LinearDiscriminantAnalysis\n",
    "from sklearn.metrics import mean_squared_error\n",
    "\n",
    "np.seterr(divide='ignore', invalid='ignore')\n",
    "\n",
    "# useful function to load CIFAR-10 datasets\n",
    "def unpickle(file):\n",
    "    import pickle\n",
    "    with open(file, 'rb') as fo:\n",
    "        dict = pickle.load(fo, encoding='bytes')\n",
    "    return dict"
   ]
  },
  {
   "cell_type": "code",
   "execution_count": 2,
   "metadata": {},
   "outputs": [],
   "source": [
    "# loading datasets\n",
    "\n",
    "# fashion MNIST\n",
    "fashion_mnist_train = pd.read_csv(\"./datasets/fashion-mnist_train.csv\") \n",
    "fashion_mnist_test = pd.read_csv(\"./datasets/fashion-mnist_test.csv\")\n",
    "\n",
    "# CIFAR-10 train\n",
    "baseName = \"./datasets/cifar-10-batches-py/data_batch_\"\n",
    "X_train = np.array([row for batch in [unpickle(baseName + str(i))[b'data'] for i in range(1, 6)] for row in batch])\n",
    "y_train = np.array([label for batch in [unpickle(baseName + str(i))[b'labels'] for i in range(1, 6)] for label in batch])\n",
    "cifar10_train = pd.DataFrame(X_train)\n",
    "cifar10_train[\"class\"] = y_train\n",
    "\n",
    "# CIFAR-10 test\n",
    "X_test = unpickle(\"./datasets/cifar-10-batches-py/test_batch\")[b'data']\n",
    "y_test = unpickle(\"./datasets/cifar-10-batches-py/test_batch\")[b'labels']\n",
    "cifar10_test = pd.DataFrame(X_test)\n",
    "cifar10_test[\"class\"] = y_test"
   ]
  },
  {
   "cell_type": "markdown",
   "metadata": {},
   "source": [
    "# 2 Data analysis"
   ]
  },
  {
   "cell_type": "markdown",
   "metadata": {},
   "source": [
    "# 2.1 Fashion MNIST analysis"
   ]
  },
  {
   "cell_type": "code",
   "execution_count": 3,
   "metadata": {},
   "outputs": [
    {
     "data": {
      "text/html": [
       "<div>\n",
       "<style scoped>\n",
       "    .dataframe tbody tr th:only-of-type {\n",
       "        vertical-align: middle;\n",
       "    }\n",
       "\n",
       "    .dataframe tbody tr th {\n",
       "        vertical-align: top;\n",
       "    }\n",
       "\n",
       "    .dataframe thead th {\n",
       "        text-align: right;\n",
       "    }\n",
       "</style>\n",
       "<table border=\"1\" class=\"dataframe\">\n",
       "  <thead>\n",
       "    <tr style=\"text-align: right;\">\n",
       "      <th></th>\n",
       "      <th>label</th>\n",
       "      <th>pixel1</th>\n",
       "      <th>pixel2</th>\n",
       "      <th>pixel3</th>\n",
       "      <th>pixel4</th>\n",
       "      <th>pixel5</th>\n",
       "      <th>pixel6</th>\n",
       "      <th>pixel7</th>\n",
       "      <th>pixel8</th>\n",
       "      <th>pixel9</th>\n",
       "      <th>...</th>\n",
       "      <th>pixel775</th>\n",
       "      <th>pixel776</th>\n",
       "      <th>pixel777</th>\n",
       "      <th>pixel778</th>\n",
       "      <th>pixel779</th>\n",
       "      <th>pixel780</th>\n",
       "      <th>pixel781</th>\n",
       "      <th>pixel782</th>\n",
       "      <th>pixel783</th>\n",
       "      <th>pixel784</th>\n",
       "    </tr>\n",
       "  </thead>\n",
       "  <tbody>\n",
       "    <tr>\n",
       "      <th>0</th>\n",
       "      <td>2</td>\n",
       "      <td>0</td>\n",
       "      <td>0</td>\n",
       "      <td>0</td>\n",
       "      <td>0</td>\n",
       "      <td>0</td>\n",
       "      <td>0</td>\n",
       "      <td>0</td>\n",
       "      <td>0</td>\n",
       "      <td>0</td>\n",
       "      <td>...</td>\n",
       "      <td>0</td>\n",
       "      <td>0</td>\n",
       "      <td>0</td>\n",
       "      <td>0</td>\n",
       "      <td>0</td>\n",
       "      <td>0</td>\n",
       "      <td>0</td>\n",
       "      <td>0</td>\n",
       "      <td>0</td>\n",
       "      <td>0</td>\n",
       "    </tr>\n",
       "    <tr>\n",
       "      <th>1</th>\n",
       "      <td>9</td>\n",
       "      <td>0</td>\n",
       "      <td>0</td>\n",
       "      <td>0</td>\n",
       "      <td>0</td>\n",
       "      <td>0</td>\n",
       "      <td>0</td>\n",
       "      <td>0</td>\n",
       "      <td>0</td>\n",
       "      <td>0</td>\n",
       "      <td>...</td>\n",
       "      <td>0</td>\n",
       "      <td>0</td>\n",
       "      <td>0</td>\n",
       "      <td>0</td>\n",
       "      <td>0</td>\n",
       "      <td>0</td>\n",
       "      <td>0</td>\n",
       "      <td>0</td>\n",
       "      <td>0</td>\n",
       "      <td>0</td>\n",
       "    </tr>\n",
       "    <tr>\n",
       "      <th>2</th>\n",
       "      <td>6</td>\n",
       "      <td>0</td>\n",
       "      <td>0</td>\n",
       "      <td>0</td>\n",
       "      <td>0</td>\n",
       "      <td>0</td>\n",
       "      <td>0</td>\n",
       "      <td>0</td>\n",
       "      <td>5</td>\n",
       "      <td>0</td>\n",
       "      <td>...</td>\n",
       "      <td>0</td>\n",
       "      <td>0</td>\n",
       "      <td>0</td>\n",
       "      <td>30</td>\n",
       "      <td>43</td>\n",
       "      <td>0</td>\n",
       "      <td>0</td>\n",
       "      <td>0</td>\n",
       "      <td>0</td>\n",
       "      <td>0</td>\n",
       "    </tr>\n",
       "    <tr>\n",
       "      <th>3</th>\n",
       "      <td>0</td>\n",
       "      <td>0</td>\n",
       "      <td>0</td>\n",
       "      <td>0</td>\n",
       "      <td>1</td>\n",
       "      <td>2</td>\n",
       "      <td>0</td>\n",
       "      <td>0</td>\n",
       "      <td>0</td>\n",
       "      <td>0</td>\n",
       "      <td>...</td>\n",
       "      <td>3</td>\n",
       "      <td>0</td>\n",
       "      <td>0</td>\n",
       "      <td>0</td>\n",
       "      <td>0</td>\n",
       "      <td>1</td>\n",
       "      <td>0</td>\n",
       "      <td>0</td>\n",
       "      <td>0</td>\n",
       "      <td>0</td>\n",
       "    </tr>\n",
       "    <tr>\n",
       "      <th>4</th>\n",
       "      <td>3</td>\n",
       "      <td>0</td>\n",
       "      <td>0</td>\n",
       "      <td>0</td>\n",
       "      <td>0</td>\n",
       "      <td>0</td>\n",
       "      <td>0</td>\n",
       "      <td>0</td>\n",
       "      <td>0</td>\n",
       "      <td>0</td>\n",
       "      <td>...</td>\n",
       "      <td>0</td>\n",
       "      <td>0</td>\n",
       "      <td>0</td>\n",
       "      <td>0</td>\n",
       "      <td>0</td>\n",
       "      <td>0</td>\n",
       "      <td>0</td>\n",
       "      <td>0</td>\n",
       "      <td>0</td>\n",
       "      <td>0</td>\n",
       "    </tr>\n",
       "  </tbody>\n",
       "</table>\n",
       "<p>5 rows × 785 columns</p>\n",
       "</div>"
      ],
      "text/plain": [
       "   label  pixel1  pixel2  pixel3  pixel4  pixel5  pixel6  pixel7  pixel8  \\\n",
       "0      2       0       0       0       0       0       0       0       0   \n",
       "1      9       0       0       0       0       0       0       0       0   \n",
       "2      6       0       0       0       0       0       0       0       5   \n",
       "3      0       0       0       0       1       2       0       0       0   \n",
       "4      3       0       0       0       0       0       0       0       0   \n",
       "\n",
       "   pixel9    ...     pixel775  pixel776  pixel777  pixel778  pixel779  \\\n",
       "0       0    ...            0         0         0         0         0   \n",
       "1       0    ...            0         0         0         0         0   \n",
       "2       0    ...            0         0         0        30        43   \n",
       "3       0    ...            3         0         0         0         0   \n",
       "4       0    ...            0         0         0         0         0   \n",
       "\n",
       "   pixel780  pixel781  pixel782  pixel783  pixel784  \n",
       "0         0         0         0         0         0  \n",
       "1         0         0         0         0         0  \n",
       "2         0         0         0         0         0  \n",
       "3         1         0         0         0         0  \n",
       "4         0         0         0         0         0  \n",
       "\n",
       "[5 rows x 785 columns]"
      ]
     },
     "execution_count": 3,
     "metadata": {},
     "output_type": "execute_result"
    }
   ],
   "source": [
    "fashion_mnist_train.head()"
   ]
  },
  {
   "cell_type": "code",
   "execution_count": 4,
   "metadata": {},
   "outputs": [
    {
     "name": "stdout",
     "output_type": "stream",
     "text": [
      "Fashion MNIST - number of rows: 60000\n"
     ]
    }
   ],
   "source": [
    "print(\"Fashion MNIST - number of rows:\", len(fashion_mnist_train))"
   ]
  },
  {
   "cell_type": "markdown",
   "metadata": {},
   "source": [
    "<div class=\"alert alert-success\">\n",
    "<b>Fashion MNIST - General overview</b><br>\n",
    "From the previous results we can see that we have a training set with 60000 rows: a large amount of data in order to (potentially) have a good training. The dimensionality is high: 785 features. This is a problem for many models but in this case we are going to use Naïve Bayes that is really good at dealing with this fact (in the next section we'll discover why). \n",
    "</div>"
   ]
  },
  {
   "cell_type": "code",
   "execution_count": 5,
   "metadata": {},
   "outputs": [
    {
     "data": {
      "text/plain": [
       "<matplotlib.axes._subplots.AxesSubplot at 0x10bef42e8>"
      ]
     },
     "execution_count": 5,
     "metadata": {},
     "output_type": "execute_result"
    },
    {
     "data": {
      "image/png": "[encoded data removed]",
      "text/plain": [
       "<matplotlib.figure.Figure at 0x106e26320>"
      ]
     },
     "metadata": {},
     "output_type": "display_data"
    }
   ],
   "source": [
    "plt.figure(figsize=(10,10))\n",
    "pd.value_counts(fashion_mnist_train['label']).plot.bar()"
   ]
  },
  {
   "cell_type": "markdown",
   "metadata": {},
   "source": [
    "<div class=\"alert alert-success\">\n",
    "<b>Fashion MNIST - About the class distribution</b><br>\n",
    "It is really important taking a look at class distribution because based on this analysis we should take a decision on our prior (see next section for better explanation on Naïve Bayes). In this case we can see that we have the same number of instaces for each class so we can conclude that there is no prior preference; in other words we can assume that the prior distribution is uniform: each class has P(t_new = Class) = 1 / K, where K is the number of classes.\n",
    "</div>"
   ]
  },
  {
   "cell_type": "markdown",
   "metadata": {},
   "source": [
    "# 2.2 CIFAR-10 analysis"
   ]
  },
  {
   "cell_type": "code",
   "execution_count": 6,
   "metadata": {},
   "outputs": [
    {
     "data": {
      "text/html": [
       "<div>\n",
       "<style scoped>\n",
       "    .dataframe tbody tr th:only-of-type {\n",
       "        vertical-align: middle;\n",
       "    }\n",
       "\n",
       "    .dataframe tbody tr th {\n",
       "        vertical-align: top;\n",
       "    }\n",
       "\n",
       "    .dataframe thead th {\n",
       "        text-align: right;\n",
       "    }\n",
       "</style>\n",
       "<table border=\"1\" class=\"dataframe\">\n",
       "  <thead>\n",
       "    <tr style=\"text-align: right;\">\n",
       "      <th></th>\n",
       "      <th>0</th>\n",
       "      <th>1</th>\n",
       "      <th>2</th>\n",
       "      <th>3</th>\n",
       "      <th>4</th>\n",
       "      <th>5</th>\n",
       "      <th>6</th>\n",
       "      <th>7</th>\n",
       "      <th>8</th>\n",
       "      <th>9</th>\n",
       "      <th>...</th>\n",
       "      <th>3063</th>\n",
       "      <th>3064</th>\n",
       "      <th>3065</th>\n",
       "      <th>3066</th>\n",
       "      <th>3067</th>\n",
       "      <th>3068</th>\n",
       "      <th>3069</th>\n",
       "      <th>3070</th>\n",
       "      <th>3071</th>\n",
       "      <th>class</th>\n",
       "    </tr>\n",
       "  </thead>\n",
       "  <tbody>\n",
       "    <tr>\n",
       "      <th>0</th>\n",
       "      <td>59</td>\n",
       "      <td>43</td>\n",
       "      <td>50</td>\n",
       "      <td>68</td>\n",
       "      <td>98</td>\n",
       "      <td>119</td>\n",
       "      <td>139</td>\n",
       "      <td>145</td>\n",
       "      <td>149</td>\n",
       "      <td>149</td>\n",
       "      <td>...</td>\n",
       "      <td>58</td>\n",
       "      <td>65</td>\n",
       "      <td>59</td>\n",
       "      <td>46</td>\n",
       "      <td>57</td>\n",
       "      <td>104</td>\n",
       "      <td>140</td>\n",
       "      <td>84</td>\n",
       "      <td>72</td>\n",
       "      <td>6</td>\n",
       "    </tr>\n",
       "    <tr>\n",
       "      <th>1</th>\n",
       "      <td>154</td>\n",
       "      <td>126</td>\n",
       "      <td>105</td>\n",
       "      <td>102</td>\n",
       "      <td>125</td>\n",
       "      <td>155</td>\n",
       "      <td>172</td>\n",
       "      <td>180</td>\n",
       "      <td>142</td>\n",
       "      <td>111</td>\n",
       "      <td>...</td>\n",
       "      <td>42</td>\n",
       "      <td>67</td>\n",
       "      <td>101</td>\n",
       "      <td>122</td>\n",
       "      <td>133</td>\n",
       "      <td>136</td>\n",
       "      <td>139</td>\n",
       "      <td>142</td>\n",
       "      <td>144</td>\n",
       "      <td>9</td>\n",
       "    </tr>\n",
       "    <tr>\n",
       "      <th>2</th>\n",
       "      <td>255</td>\n",
       "      <td>253</td>\n",
       "      <td>253</td>\n",
       "      <td>253</td>\n",
       "      <td>253</td>\n",
       "      <td>253</td>\n",
       "      <td>253</td>\n",
       "      <td>253</td>\n",
       "      <td>253</td>\n",
       "      <td>253</td>\n",
       "      <td>...</td>\n",
       "      <td>83</td>\n",
       "      <td>80</td>\n",
       "      <td>69</td>\n",
       "      <td>66</td>\n",
       "      <td>72</td>\n",
       "      <td>79</td>\n",
       "      <td>83</td>\n",
       "      <td>83</td>\n",
       "      <td>84</td>\n",
       "      <td>9</td>\n",
       "    </tr>\n",
       "    <tr>\n",
       "      <th>3</th>\n",
       "      <td>28</td>\n",
       "      <td>37</td>\n",
       "      <td>38</td>\n",
       "      <td>42</td>\n",
       "      <td>44</td>\n",
       "      <td>40</td>\n",
       "      <td>40</td>\n",
       "      <td>24</td>\n",
       "      <td>32</td>\n",
       "      <td>43</td>\n",
       "      <td>...</td>\n",
       "      <td>39</td>\n",
       "      <td>59</td>\n",
       "      <td>42</td>\n",
       "      <td>44</td>\n",
       "      <td>48</td>\n",
       "      <td>38</td>\n",
       "      <td>28</td>\n",
       "      <td>37</td>\n",
       "      <td>46</td>\n",
       "      <td>4</td>\n",
       "    </tr>\n",
       "    <tr>\n",
       "      <th>4</th>\n",
       "      <td>170</td>\n",
       "      <td>168</td>\n",
       "      <td>177</td>\n",
       "      <td>183</td>\n",
       "      <td>181</td>\n",
       "      <td>177</td>\n",
       "      <td>181</td>\n",
       "      <td>184</td>\n",
       "      <td>189</td>\n",
       "      <td>189</td>\n",
       "      <td>...</td>\n",
       "      <td>88</td>\n",
       "      <td>85</td>\n",
       "      <td>82</td>\n",
       "      <td>83</td>\n",
       "      <td>79</td>\n",
       "      <td>78</td>\n",
       "      <td>82</td>\n",
       "      <td>78</td>\n",
       "      <td>80</td>\n",
       "      <td>1</td>\n",
       "    </tr>\n",
       "  </tbody>\n",
       "</table>\n",
       "<p>5 rows × 3073 columns</p>\n",
       "</div>"
      ],
      "text/plain": [
       "     0    1    2    3    4    5    6    7    8    9  ...    3063  3064  3065  \\\n",
       "0   59   43   50   68   98  119  139  145  149  149  ...      58    65    59   \n",
       "1  154  126  105  102  125  155  172  180  142  111  ...      42    67   101   \n",
       "2  255  253  253  253  253  253  253  253  253  253  ...      83    80    69   \n",
       "3   28   37   38   42   44   40   40   24   32   43  ...      39    59    42   \n",
       "4  170  168  177  183  181  177  181  184  189  189  ...      88    85    82   \n",
       "\n",
       "   3066  3067  3068  3069  3070  3071  class  \n",
       "0    46    57   104   140    84    72      6  \n",
       "1   122   133   136   139   142   144      9  \n",
       "2    66    72    79    83    83    84      9  \n",
       "3    44    48    38    28    37    46      4  \n",
       "4    83    79    78    82    78    80      1  \n",
       "\n",
       "[5 rows x 3073 columns]"
      ]
     },
     "execution_count": 6,
     "metadata": {},
     "output_type": "execute_result"
    }
   ],
   "source": [
    "cifar10_train.head()"
   ]
  },
  {
   "cell_type": "code",
   "execution_count": 7,
   "metadata": {},
   "outputs": [
    {
     "name": "stdout",
     "output_type": "stream",
     "text": [
      "CIFAR-10 - number of rows: 50000\n"
     ]
    }
   ],
   "source": [
    "print(\"CIFAR-10 - number of rows:\", len(cifar10_train))"
   ]
  },
  {
   "cell_type": "markdown",
   "metadata": {},
   "source": [
    "<div class=\"alert alert-success\">\n",
    "<b>CIFAR-10 - General overview</b><br>\n",
    "From the previous results we can see that we have a training set with 50000 rows. The dimensionality is really high, more than before: 3073 features. Again, with Naïve Bayes is perfect in this case (under the point of view of computational cost) but of course we don't know if all the attributes are independent. We'll see looking at performance metrics. \n",
    "</div>"
   ]
  },
  {
   "cell_type": "code",
   "execution_count": 8,
   "metadata": {},
   "outputs": [
    {
     "data": {
      "text/plain": [
       "<matplotlib.axes._subplots.AxesSubplot at 0x10c3d6f98>"
      ]
     },
     "execution_count": 8,
     "metadata": {},
     "output_type": "execute_result"
    },
    {
     "data": {
      "image/png": "[encoded data removed]",
      "text/plain": [
       "<matplotlib.figure.Figure at 0x10cad2748>"
      ]
     },
     "metadata": {},
     "output_type": "display_data"
    }
   ],
   "source": [
    "plt.figure(figsize=(10,10))\n",
    "pd.value_counts(cifar10_train['class']).plot.bar()"
   ]
  },
  {
   "cell_type": "markdown",
   "metadata": {},
   "source": [
    "<div class=\"alert alert-success\">\n",
    "<b>CIFAR-10 - About the class distribution</b><br>\n",
    "Even in this case we have the same number of instaces for each class. Therefore the prior distribution is again uniform: each class has P(t_new = Class) = 1 / K, where K is the number of classes.\n",
    "</div>"
   ]
  },
  {
   "cell_type": "markdown",
   "metadata": {},
   "source": [
    "# 2.3 Pre-processing suggestions"
   ]
  },
  {
   "cell_type": "markdown",
   "metadata": {},
   "source": [
    "<div class=\"alert alert-success\">\n",
    "When we talk about data pre-processing we immediately think about outliers, feature engineering and dimensionality reduction.<br><br>\n",
    "\n",
    "About the first one in this case we can't say too much in this notebook: for sure there is a lot of research out there about outlier-removal in image-classification but it is about image processing, therefore out of scope of this assignment.<br><br>\n",
    "\n",
    "About feature engineering a easy-to-do operation is scaling, which speed-up our algorithms. All the values we are dealing are between 0 and 255 (grayscale images), so we can simply use a scale from 0 to 1. An alternative to this approach could be converting all the images in Black/White in order to have only 0 or 1 as values, simplyfing the features.<br><br>\n",
    "\n",
    "Dimensionality reduction could be a good thing, we have really high dimensional data. The first technique we may think is PCA (Principal Component Analysis). At first glance it seems a good idea because we will obtain uncorrelated features and it is the best case for Naïve Bayes. It's actually problematic: it does NOT CARE AT ALL about labels. It simply finds the directions where most of the variance is explained, but it could make our classification problem much more difficult. In the following image is showed a simple classification problem: detect photos of cats and dogs; the class instances are linearly separable (left-side) but they are distributed in a certain way that after PCA (right-side) they are not.<br>\n",
    "<img src=\"http://www.visiondummy.com/wp-content/uploads/2014/05/pca_lda.png\"><br>\n",
    "We should use LDA (Linear Discriminant Analysis) but in this case we are talking about another model, i.e. supervised learning. We will talk in the section 3.4.2.\n",
    "</div>"
   ]
  },
  {
   "cell_type": "markdown",
   "metadata": {},
   "source": [
    "# 3 Classification"
   ]
  },
  {
   "cell_type": "markdown",
   "metadata": {},
   "source": [
    "## 3.1 Naïve Bayes implementation"
   ]
  },
  {
   "cell_type": "markdown",
   "metadata": {},
   "source": [
    "<div class=\"alert alert-success\">\n",
    "<b>Naïve Bayes: the goal</b><br>\n",
    "In this classification model we would compute, given the input x, the probability that it belongs to class C_k. But in many cases this task is unfeasible, for this reason we use the Bayes theorem to solve the problem from another point of view.\n",
    "</div>"
   ]
  },
  {
   "cell_type": "markdown",
   "metadata": {},
   "source": [
    "<img src=\"https://wikimedia.org/api/rest_v1/media/math/render/svg/52bd0ca5938da89d7f9bf388dc7edcbd546c118e\">\n",
    "<img src=\"https://wikimedia.org/api/rest_v1/media/math/render/svg/b0122d84d632cc399d2a49924797f37a7db53b0c\">"
   ]
  },
  {
   "cell_type": "markdown",
   "metadata": {},
   "source": [
    "<div class=\"alert alert-success\">\n",
    "<b>Naïve Bayes: how to proceed</b><br>\n",
    "As showed in the last pictures, we should define a prior and compute the likelihood in order to get what we are looking for. From the previous analysis we have decided that the prior is a uniform distribution, where each class has probability 1/K. In the case of likelihood we suppose that attributes have normal distribution, so we can easily compute the likelihood for each attribute with this formula:\n",
    "<img src=\"https://wikimedia.org/api/rest_v1/media/math/render/svg/685339e22f57b18d804f2e0a9c507421da59e2ab\">\n",
    "</div>"
   ]
  },
  {
   "cell_type": "markdown",
   "metadata": {},
   "source": [
    "<div class=\"alert alert-success\">\n",
    "<b>Naïve Bayes: pros and cons</b><br>\n",
    "This model is really easy to implement and computationally fast, especially when we are dealing with large amout of data with high dimensionality (like in our case). The other side of the coin is the model makes a strong assumption: <u>independence among features</u>; for this reason it is called \"naïve\". This assumption brings all the advantages which I talked about before but at the same time we should care if it is (quite) true in our data. If it is not, probably we'll have poor results.<br><br>\n",
    "\n",
    "Making this assumption our life is easy: in order to compute p(x | C_k) we can simply compute the likelihood for each attribute and multiply them to obtain the likelihood for a specific class. At the end we simply choose the most likely:\n",
    "<img src=\"https://wikimedia.org/api/rest_v1/media/math/render/svg/5ed52009429e5f3028302427a067822fdfc58059\">\n",
    "</div>"
   ]
  },
  {
   "cell_type": "code",
   "execution_count": 9,
   "metadata": {},
   "outputs": [],
   "source": [
    "class NaiveBayes:\n",
    "    def __init__(self, priors=None):\n",
    "        self.noise = 0.0001\n",
    "        self.priors = priors\n",
    "    \n",
    "    def fit(self, X, y):\n",
    "        # separate rows by target class\n",
    "        separated = [[x for x, t in zip(X, y) if t == c] for c in np.unique(y)]\n",
    "        \n",
    "        # for all the rows belonging to the same class compute the mean and std dev for each attribute\n",
    "        # obtaining two matrices nb of classes x nb of features\n",
    "        # adding some noise in stds to avoid instability (division by zero problem)\n",
    "        self.means = np.array([np.mean(g, axis=0) for g in separated])\n",
    "        self.stds = np.array([np.std(g, axis=0) for g in separated]) + self.noise\n",
    "        \n",
    "        # check if the prior is set otherwise assume uniform\n",
    "        if self.priors is not None:\n",
    "            if len(self.priors) != len(self.means):\n",
    "                raise ValueError('The lenght of priors is not equal to the number of classes in your data')\n",
    "        else:\n",
    "            self.priors = np.repeat(1 / len(self.means), len(self.means))\n",
    "              \n",
    "    def predict(self, X, return_likelihoods=False):\n",
    "        # for each row apply the function that compute the likelihood for each class and return the best one\n",
    "        self.return_likelihoods = return_likelihoods\n",
    "        return np.apply_along_axis(self.predict_class_by_row, 1, X)\n",
    "        \n",
    "    def predict_class_by_row(self, row):\n",
    "        # apply normal pdf in matrix form\n",
    "        # for each row (number of classes) we got the log(likelihood) for an attribute in that class\n",
    "        # using the log in order to avoid instability because of too small values\n",
    "        # instead of np.prod use np.sum thanks to log operation\n",
    "        # summing by row (independent attributes) we obtain the log(likelihood) for the i-th class\n",
    "        # return that with higher posterior\n",
    "        P = np.sum(np.log(1 / (2 * self.stds * np.sqrt(2*np.pi))) -\n",
    "                   np.divide((row - self.means)**2, 2 * self.stds**2), axis=1) + np.log(self.priors)\n",
    "        class_value = np.argmax(P)\n",
    "        if self.return_likelihoods:\n",
    "            return class_value, P[class_value] - self.priors[class_value]\n",
    "        return class_value"
   ]
  },
  {
   "cell_type": "markdown",
   "metadata": {},
   "source": [
    "## 3.2 Naive Bayes on CIFAR-10"
   ]
  },
  {
   "cell_type": "code",
   "execution_count": 10,
   "metadata": {},
   "outputs": [],
   "source": [
    "model = NaiveBayes()\n",
    "X_train = cifar10_train.drop(columns=\"class\").as_matrix() / 255\n",
    "y_train = cifar10_train[\"class\"].as_matrix()\n",
    "model.fit(X_train, y_train)"
   ]
  },
  {
   "cell_type": "code",
   "execution_count": 11,
   "metadata": {},
   "outputs": [
    {
     "name": "stdout",
     "output_type": "stream",
     "text": [
      "Prediction completed. Duration: 7.8s\n"
     ]
    }
   ],
   "source": [
    "import time\n",
    "start = time.time()\n",
    "X_test = cifar10_test.drop(columns=\"class\").as_matrix() / 255\n",
    "y_pred = model.predict(X_test, True)\n",
    "print(\"Prediction completed. Duration: %.1fs\" % (time.time() - start))"
   ]
  },
  {
   "cell_type": "markdown",
   "metadata": {},
   "source": [
    "<div class=\"alert alert-success\">\n",
    "The computational performances of our custom model are really good. As expected the computional cost of Naïve Bayes is really low even for large and high-dimensional data.\n",
    "</div>"
   ]
  },
  {
   "cell_type": "code",
   "execution_count": 12,
   "metadata": {},
   "outputs": [
    {
     "name": "stdout",
     "output_type": "stream",
     "text": [
      "The accuracy is: 29.75%\n",
      "The log-likelihood is: -18195828.43\n",
      "The average log-likelihood for correct predictions is: -1780.57\n",
      "The average log-likelihood for wrong predictions is: -1836.11\n"
     ]
    }
   ],
   "source": [
    "print(\"The accuracy is: %.2f%%\" % ((cifar10_test[\"class\"] == y_pred[:,0]).sum() / len(cifar10_test) * 100))\n",
    "print(\"The log-likelihood is: %.2f\" % y_pred[:,1].sum())\n",
    "loglik_corrects = np.array([y_pred[i][1] for i in range(len(y_pred)) if y_pred[i][0] == cifar10_test[\"class\"].iloc[i]])\n",
    "print(\"The average log-likelihood for correct predictions is: %.2f\" % loglik_corrects.mean())\n",
    "loglik_errors = np.array([y_pred[i][1] for i in range(len(y_pred)) if y_pred[i][0] != cifar10_test[\"class\"].iloc[i]])\n",
    "print(\"The average log-likelihood for wrong predictions is: %.2f\" % loglik_errors.mean())"
   ]
  },
  {
   "cell_type": "code",
   "execution_count": 13,
   "metadata": {},
   "outputs": [
    {
     "data": {
      "image/png": "[encoded data removed]",
      "text/plain": [
       "<matplotlib.figure.Figure at 0x10c3ef588>"
      ]
     },
     "metadata": {},
     "output_type": "display_data"
    }
   ],
   "source": [
    "plt.figure(figsize=(10,10))\n",
    "confusion_matrix_data = confusion_matrix(cifar10_test[\"class\"], y_pred[:,0])\n",
    "ax = sns.heatmap(confusion_matrix_data, annot=True, cbar=False, square=True, fmt='d', cmap=\"YlGnBu\")"
   ]
  },
  {
   "cell_type": "markdown",
   "metadata": {},
   "source": [
    "## 3.3 Naive Bayes on fashion MNIST"
   ]
  },
  {
   "cell_type": "code",
   "execution_count": 14,
   "metadata": {},
   "outputs": [],
   "source": [
    "model2 = NaiveBayes()\n",
    "X_train = fashion_mnist_train.drop(columns=\"label\").as_matrix() / 255\n",
    "y_train = fashion_mnist_train[\"label\"].as_matrix()\n",
    "model2.fit(X_train, y_train)"
   ]
  },
  {
   "cell_type": "code",
   "execution_count": 15,
   "metadata": {},
   "outputs": [
    {
     "name": "stdout",
     "output_type": "stream",
     "text": [
      "Prediction completed. Duration: 2.6s\n"
     ]
    }
   ],
   "source": [
    "import time\n",
    "start = time.time()\n",
    "X_test = fashion_mnist_test.drop(columns=\"label\").as_matrix() / 255\n",
    "y_pred = model2.predict(X_test, True)\n",
    "print(\"Prediction completed. Duration: %.1fs\" % (time.time() - start))"
   ]
  },
  {
   "cell_type": "code",
   "execution_count": 16,
   "metadata": {},
   "outputs": [
    {
     "name": "stdout",
     "output_type": "stream",
     "text": [
      "The accuracy of the model is: 60.20%\n",
      "The log-likelihood is: 2894875.35\n",
      "The average log-likelihood for correct predictions is: 308.63\n",
      "The average log-likelihood for wrong predictions is: 260.54\n"
     ]
    }
   ],
   "source": [
    "print(\"The accuracy of the model is: %.2f%%\" % ((fashion_mnist_test[\"label\"] == y_pred[:,0]).sum() / len(fashion_mnist_test) * 100))\n",
    "print(\"The log-likelihood is: %.2f\" % y_pred[:,1].sum())\n",
    "loglik_corrects = np.array([y_pred[i][1] for i in range(len(y_pred)) if y_pred[i][0] == fashion_mnist_test[\"label\"].iloc[i]])\n",
    "print(\"The average log-likelihood for correct predictions is: %.2f\" % loglik_corrects.mean())\n",
    "loglik_errors = np.array([y_pred[i][1] for i in range(len(y_pred)) if y_pred[i][0] != fashion_mnist_test[\"label\"].iloc[i]])\n",
    "print(\"The average log-likelihood for wrong predictions is: %.2f\" % loglik_errors.mean())"
   ]
  },
  {
   "cell_type": "markdown",
   "metadata": {},
   "source": [
    "<div class=\"alert alert-warning\">\n",
    "We get <b>positive likelihoods</b> because of scaling factor. Having (sometimes) small standard deviations at the denominator of the log argument, we obtain positive values. Of course this fact doesn't change the general meaning of our discussion, which analyze these values relatively to the others.\n",
    "</div>"
   ]
  },
  {
   "cell_type": "code",
   "execution_count": 17,
   "metadata": {},
   "outputs": [
    {
     "data": {
      "image/png": "[encoded data removed]",
      "text/plain": [
       "<matplotlib.figure.Figure at 0x1064c02b0>"
      ]
     },
     "metadata": {},
     "output_type": "display_data"
    }
   ],
   "source": [
    "plt.figure(figsize=(10,10))\n",
    "confusion_matrix_data = confusion_matrix(fashion_mnist_test[\"label\"], y_pred[:,0])\n",
    "ax = sns.heatmap(confusion_matrix_data, annot=True, cbar=False, square=True, fmt='d', cmap=\"YlGnBu\")"
   ]
  },
  {
   "cell_type": "markdown",
   "metadata": {},
   "source": [
    "## 3.4 Discussion of performances"
   ]
  },
  {
   "cell_type": "markdown",
   "metadata": {},
   "source": [
    "### 3.4.1 Comparison with random classifier"
   ]
  },
  {
   "cell_type": "code",
   "execution_count": 18,
   "metadata": {},
   "outputs": [
    {
     "name": "stdout",
     "output_type": "stream",
     "text": [
      "The accuracy of random model for Fashion MNIST is: 10.37%\n",
      "The accuracy of random model for CIFAR-10 is: 10.14%\n"
     ]
    }
   ],
   "source": [
    "random_y_pred_cifar = np.random.randint(low=0, high=10, size=len(cifar10_test))\n",
    "random_y_pred_mnist = np.random.randint(low=0, high=10, size=len(fashion_mnist_test))\n",
    "print(\"The accuracy of random model for Fashion MNIST is: %.2f%%\" % ((fashion_mnist_test[\"label\"] == random_y_pred_mnist).sum() / len(fashion_mnist_test) * 100))\n",
    "print(\"The accuracy of random model for CIFAR-10 is: %.2f%%\" % ((cifar10_test[\"class\"] == random_y_pred_mnist).sum() / len(cifar10_test) * 100))"
   ]
  },
  {
   "cell_type": "markdown",
   "metadata": {},
   "source": [
    "<div class=\"alert alert-success\">\n",
    "<b>Random classifier comparison</b><br>\n",
    "Of course the accuracy of random classifier is really poor. The accuracy is about 10%, the same result we would obtain if we predict always the same class. We obtained better result but not so much, especially in the case of CIFAR-10 dataset where the accuracy is only about 30%.\n",
    "</div>"
   ]
  },
  {
   "cell_type": "markdown",
   "metadata": {},
   "source": [
    "### 3.4.2 Suggestions to improve"
   ]
  },
  {
   "cell_type": "markdown",
   "metadata": {},
   "source": [
    "<div class=\"alert alert-success\">\n",
    "In general we didn't obtain good results. From this fact we can say that it is possible that the independence between features is not true in this case (and if you think about, it is reasonable to think that pixels are correlated). Essentialy we should use a model that doesn't make this assumption. In the pre-processing discussion we mentioned LDA about dimensionality reduction. Indeed this model is composed by two stages: dimensionality reduction and classification stage. And about the classification stage even in this case we use the Bayes rule as Naïve classifier. Both are called \"generative\" models because they estimate the posterior. But in this case we don't have the independence assumption and we suppose that classes are linearly separable. We can easily try the performance of LDA thanks to sklearn library.\n",
    "</div>"
   ]
  },
  {
   "cell_type": "code",
   "execution_count": 19,
   "metadata": {},
   "outputs": [
    {
     "name": "stdout",
     "output_type": "stream",
     "text": [
      "Accuracy for MNIST: 82.56%\n"
     ]
    }
   ],
   "source": [
    "clf = LinearDiscriminantAnalysis()\n",
    "X_train = fashion_mnist_train.drop(columns=\"label\").as_matrix()\n",
    "y_train = fashion_mnist_train[\"label\"].as_matrix()\n",
    "X_test = fashion_mnist_test.drop(columns=\"label\").as_matrix()\n",
    "clf.fit(X_train, y_train)\n",
    "y_pred = clf.predict(X_test)\n",
    "print(\"Accuracy for MNIST: %.2f%%\" % ((fashion_mnist_test[\"label\"] == y_pred).sum() / len(fashion_mnist_test) * 100))"
   ]
  },
  {
   "cell_type": "code",
   "execution_count": 20,
   "metadata": {},
   "outputs": [
    {
     "name": "stdout",
     "output_type": "stream",
     "text": [
      "Accuracy for CIFAR-10: 37.13%\n"
     ]
    }
   ],
   "source": [
    "clf2 = LinearDiscriminantAnalysis()\n",
    "X_train = cifar10_train.drop(columns=\"class\").as_matrix()\n",
    "y_train = cifar10_train[\"class\"].as_matrix()\n",
    "X_test = cifar10_test.drop(columns=\"class\").as_matrix() \n",
    "clf2.fit(X_train, y_train)\n",
    "y_pred = clf2.predict(X_test)\n",
    "print(\"Accuracy for CIFAR-10: %.2f%%\" % ((cifar10_test[\"class\"] == y_pred).sum() / len(cifar10_test) * 100))"
   ]
  },
  {
   "cell_type": "markdown",
   "metadata": {},
   "source": [
    "<div class=\"alert alert-success\">\n",
    "Our suggestions are true especially for the MNIST dataset: the accuracy is really good, so much better than before (63.68%). We can't say the same with regards to CIFAR-10 dataset: we actually improved the accuracy (with Naïve we got 29.32%) but it remains low anyway. Probably in this case we have a more difficult classification problem and we have poor performaces because classes are not linearly separable.\n",
    "</div>"
   ]
  },
  {
   "cell_type": "markdown",
   "metadata": {},
   "source": [
    "# 4 Bayesian linear regression"
   ]
  },
  {
   "cell_type": "code",
   "execution_count": 21,
   "metadata": {},
   "outputs": [],
   "source": [
    "class BayesianLinReg:\n",
    "    def __init__(self):\n",
    "        pass\n",
    "    \n",
    "    def fit(self, X, y):\n",
    "        X = get_X1(X)\n",
    "        self.w_hat = np.linalg.solve(X_.T.dot(X_), X_.T.dot(np.array(y)))\n",
    "        #self.w_hat = (np.linalg.inv(X_.T.dot(X_))).dot(X_.T).dot(np.array(y))\n",
    "        self.sigma2_hat = (y - X.dot(self.w_hat)).T.dot(y - X.dot(self.w_hat)) / len(X)\n",
    "        self.cov_w_hat = self.sigma2_hat * np.linalg.inv(X.T.dot(X))\n",
    "        \n",
    "    def get_X1(self, X):\n",
    "        X1 = np.ones((len(X), len(X[0])+1))\n",
    "        X1[:,:-1] = X\n",
    "        return X1\n",
    "    \n",
    "    def predict(self):\n",
    "        pass"
   ]
  },
  {
   "cell_type": "code",
   "execution_count": 22,
   "metadata": {},
   "outputs": [],
   "source": [
    "def get_w_hat(X_, y):  \n",
    "    #w_hat = (np.linalg.inv(X_.T.dot(X_))).dot(X_.T).dot(np.array(y)) \n",
    "    w_hat = np.linalg.solve(X_.T.dot(X_), X_.T.dot(np.array(y)))\n",
    "    return w_hat\n",
    "\n",
    "def get_sigma2_hat(X, w_hat, t):\n",
    "    sigma2_hat = (t - X.dot(w_hat)).T.dot(t - X.dot(w_hat)) / len(X)\n",
    "    return sigma2_hat\n",
    "\n",
    "def get_cov_w_hat(sigma2_hat, X):\n",
    "    cov_w_hat = sigma2_hat * np.linalg.inv(X.T.dot(X))\n",
    "    return cov_w_hat"
   ]
  },
  {
   "cell_type": "code",
   "execution_count": 36,
   "metadata": {},
   "outputs": [
    {
     "name": "stdout",
     "output_type": "stream",
     "text": [
      "1.963856819494109\n"
     ]
    }
   ],
   "source": [
    "X_train = fashion_mnist_train.drop(columns=\"label\").as_matrix() / 255\n",
    "X_train_one = np.ones((len(X_train), len(X_train[0])+1))\n",
    "X_train_one[:,:-1] = X_train\n",
    "y_train = fashion_mnist_train[\"label\"].as_matrix()\n",
    "X_test = fashion_mnist_test.drop(columns=\"label\").as_matrix() / 255\n",
    "X_test_one = np.ones((len(X_test), len(X_test[0])+1))\n",
    "X_test_one[:,:-1] = X_test\n",
    "w_hat = get_w_hat(X_train_one, y_train)\n",
    "sigma2_hat = get_sigma2_hat(X_train_one, w_hat, y_train)\n",
    "cov_w_hat = get_cov_w_hat(sigma2_hat, X_train_one)\n",
    "predictions = X_test_one.dot(w_hat)\n",
    "print(mean_squared_error(fashion_mnist_test[\"label\"], predictions))\n",
    "\n",
    "sigma2_new = np.zeros(len(X_test_one))\n",
    "for i in range(len(X_test_one)):\n",
    "    x_new = X_test_one[i,:]\n",
    "    sigma2_new[i] = sigma2_hat + x_new.T.dot(cov_w_hat).dot(x_new)"
   ]
  },
  {
   "cell_type": "code",
   "execution_count": 37,
   "metadata": {},
   "outputs": [
    {
     "data": {
      "image/png": "[encoded data removed]",
      "text/plain": [
       "<matplotlib.figure.Figure at 0x10c1e24a8>"
      ]
     },
     "metadata": {},
     "output_type": "display_data"
    }
   ],
   "source": [
    "plt.figure(figsize=(20,8))\n",
    "plt.yticks(list(range(10)))\n",
    "plt.scatter(list(range(50)), predictions[:50], color=\"blue\")\n",
    "plt.scatter(list(range(50)), fashion_mnist_test[\"label\"][:50], color=\"green\")\n",
    "plt.errorbar(list(range(50)), predictions[:50], yerr=sigma2_new[:50], fmt='none')\n",
    "plt.legend([\"Prediction\", \"True class\"], frameon=True, fancybox=True, facecolor='w')\n",
    "plt.title(\"Scatter plot for CIFAR-10 dataset\")\n",
    "plt.ylabel(\"Class\")\n",
    "plt.xlabel(\"Samples\")\n",
    "plt.show()"
   ]
  },
  {
   "cell_type": "code",
   "execution_count": 25,
   "metadata": {},
   "outputs": [
    {
     "name": "stdout",
     "output_type": "stream",
     "text": [
      "Accuracy for MNIST: 39.19%\n"
     ]
    }
   ],
   "source": [
    "predictions = np.rint(predictions).astype(int)\n",
    "predictions[predictions < 0] = 0\n",
    "predictions[predictions > 9] = 9\n",
    "print(\"Accuracy for MNIST: %.2f%%\" % ((fashion_mnist_test[\"label\"] == predictions).sum() / len(fashion_mnist_test) * 100))"
   ]
  },
  {
   "cell_type": "code",
   "execution_count": 33,
   "metadata": {},
   "outputs": [
    {
     "name": "stdout",
     "output_type": "stream",
     "text": [
      "9.562931922945962\n"
     ]
    }
   ],
   "source": [
    "X_train = cifar10_train.drop(columns=\"class\").as_matrix() / 255\n",
    "X_train_one = np.ones((len(X_train), len(X_train[0])+1))\n",
    "X_train_one[:,:-1] = X_train\n",
    "y_train = cifar10_train[\"class\"].as_matrix()\n",
    "X_test = cifar10_test.drop(columns=\"class\").as_matrix() / 255\n",
    "X_test_one = np.ones((len(X_test), len(X_test[0])+1))\n",
    "X_test_one[:,:-1] = X_test\n",
    "w_hat = get_w_hat(X_train_one, y_train)\n",
    "sigma2_hat = get_sigma2_hat(X_train_one, w_hat, y_train)\n",
    "cov_w_hat = get_cov_w_hat(sigma2_hat, X_train_one)\n",
    "predictions = X_test_one.dot(w_hat)\n",
    "print(mean_squared_error(fashion_mnist_test[\"label\"], predictions))\n",
    "\n",
    "sigma2_new = np.zeros(len(X_test_one))\n",
    "for i in range(len(X_test_one)):\n",
    "    x_new = X_test_one[i,:]\n",
    "    sigma2_new[i] = sigma2_hat + x_new.T.dot(cov_w_hat).dot(x_new)"
   ]
  },
  {
   "cell_type": "code",
   "execution_count": 35,
   "metadata": {},
   "outputs": [
    {
     "data": {
      "image/png": "[encoded data removed]",
      "text/plain": [
       "<matplotlib.figure.Figure at 0x105b524e0>"
      ]
     },
     "metadata": {},
     "output_type": "display_data"
    }
   ],
   "source": [
    "plt.figure(figsize=(20,8))\n",
    "plt.yticks(list(range(10)))\n",
    "plt.scatter(list(range(50)), predictions[:50], color=\"blue\")\n",
    "plt.scatter(list(range(50)), cifar10_test[\"class\"][:50], color=\"green\")\n",
    "plt.errorbar(list(range(50)), predictions[:50], yerr=sigma2_new[:50], fmt='none')\n",
    "plt.legend([\"Prediction\", \"True class\"], frameon=True, fancybox=True, facecolor='w')\n",
    "plt.title(\"Scatter plot for CIFAR-10 dataset\")\n",
    "plt.ylabel(\"Class\")\n",
    "plt.xlabel(\"Samples\")\n",
    "plt.show()"
   ]
  },
  {
   "cell_type": "code",
   "execution_count": 28,
   "metadata": {},
   "outputs": [
    {
     "name": "stdout",
     "output_type": "stream",
     "text": [
      "Accuracy for CIFAR-10: 10.95%\n"
     ]
    }
   ],
   "source": [
    "predictions = np.rint(predictions).astype(int)\n",
    "predictions[predictions < 0] = 0\n",
    "predictions[predictions > 9] = 9\n",
    "print(\"Accuracy for CIFAR-10: %.2f%%\" % ((cifar10_test[\"class\"] == predictions).sum() / len(cifar10_test) * 100))"
   ]
  },
  {
   "cell_type": "code",
   "execution_count": null,
   "metadata": {},
   "outputs": [],
   "source": []
  }
 ],
 "metadata": {
  "kernelspec": {
   "display_name": "Python 3",
   "language": "python",
   "name": "python3"
  },
  "language_info": {
   "codemirror_mode": {
    "name": "ipython",
    "version": 3
   },
   "file_extension": ".py",
   "mimetype": "text/x-python",
   "name": "python",
   "nbconvert_exporter": "python",
   "pygments_lexer": "ipython3",
   "version": "3.6.4"
  }
 },
 "nbformat": 4,
 "nbformat_minor": 2
}
