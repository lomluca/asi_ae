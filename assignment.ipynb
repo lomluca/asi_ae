{
 "cells": [
  {
   "cell_type": "markdown",
   "metadata": {},
   "source": [
    "# 1 Importing libraries and loading data"
   ]
  },
  {
   "cell_type": "code",
   "execution_count": 1,
   "metadata": {},
   "outputs": [
    {
     "name": "stderr",
     "output_type": "stream",
     "text": [
      "/Users/luca/anaconda3/lib/python3.6/site-packages/h5py/__init__.py:36: FutureWarning: Conversion of the second argument of issubdtype from `float` to `np.floating` is deprecated. In future, it will be treated as `np.float64 == np.dtype(float).type`.\n",
      "  from ._conv import register_converters as _register_converters\n",
      "Using TensorFlow backend.\n"
     ]
    }
   ],
   "source": [
    "import numpy as np\n",
    "import matplotlib.pyplot as plt\n",
    "import pandas as pd\n",
    "from scipy.stats import norm\n",
    "from sklearn.metrics import confusion_matrix\n",
    "import seaborn as sns; sns.set()\n",
    "from sklearn.discriminant_analysis import LinearDiscriminantAnalysis\n",
    "from sklearn.metrics import mean_squared_error\n",
    "import keras\n",
    "from keras.models import Sequential, Model\n",
    "from keras.layers import Dense, Dropout, Flatten\n",
    "from keras.layers import Conv2D, MaxPooling2D\n",
    "from keras import backend as K\n",
    "import time\n",
    "\n",
    "np.seterr(divide='ignore', invalid='ignore')\n",
    "\n",
    "# useful function to load CIFAR-10 datasets\n",
    "def unpickle(file):\n",
    "    import pickle\n",
    "    with open(file, 'rb') as fo:\n",
    "        dict = pickle.load(fo, encoding='bytes')\n",
    "    return dict\n",
    "\n",
    "def show_performance(true_values, predicted_values, loglik):\n",
    "    print(\"The accuracy is: %.2f%%\" % ((true_values == predicted_values).sum() / len(true_values) * 100))\n",
    "    print(\"The log-likelihood is: %.2f\" % loglik.sum())\n",
    "    loglik_corrects = np.array([loglik[i] for i in range(len(loglik)) if predicted_values[i] == true_values.iloc[i]])\n",
    "    print(\"The average log-likelihood for correct predictions is: %.2f\" % loglik_corrects.mean())\n",
    "    loglik_errors = np.array([loglik[i] for i in range(len(loglik)) if predicted_values[i] != true_values.iloc[i]])\n",
    "    print(\"The average log-likelihood for wrong predictions is: %.2f\" % loglik_errors.mean())"
   ]
  },
  {
   "cell_type": "code",
   "execution_count": 2,
   "metadata": {},
   "outputs": [],
   "source": [
    "# loading datasets\n",
    "\n",
    "# fashion MNIST\n",
    "fashion_mnist_train = pd.read_csv(\"./datasets/fashion-mnist_train.csv\") \n",
    "fashion_mnist_test = pd.read_csv(\"./datasets/fashion-mnist_test.csv\")\n",
    "\n",
    "# CIFAR-10 train (flatten)\n",
    "baseName = \"./datasets/cifar-10-batches-py/data_batch_\"\n",
    "X_train = np.array([row for batch in [unpickle(baseName + str(i))[b'data'] for i in range(1, 6)] for row in batch])\n",
    "y_train = np.array([label for batch in [unpickle(baseName + str(i))[b'labels'] for i in range(1, 6)] for label in batch])\n",
    "cifar10_train = pd.DataFrame(X_train)\n",
    "cifar10_train[\"class\"] = y_train\n",
    "\n",
    "# CIFAR-10 test (flatten)\n",
    "X_test = unpickle(\"./datasets/cifar-10-batches-py/test_batch\")[b'data']\n",
    "y_test = unpickle(\"./datasets/cifar-10-batches-py/test_batch\")[b'labels']\n",
    "cifar10_test = pd.DataFrame(X_test)\n",
    "cifar10_test[\"class\"] = y_test"
   ]
  },
  {
   "cell_type": "markdown",
   "metadata": {},
   "source": [
    "# 2 Data analysis"
   ]
  },
  {
   "cell_type": "markdown",
   "metadata": {},
   "source": [
    "# 2.1 Fashion MNIST analysis"
   ]
  },
  {
   "cell_type": "code",
   "execution_count": 3,
   "metadata": {},
   "outputs": [
    {
     "data": {
      "text/html": [
       "<div>\n",
       "<style scoped>\n",
       "    .dataframe tbody tr th:only-of-type {\n",
       "        vertical-align: middle;\n",
       "    }\n",
       "\n",
       "    .dataframe tbody tr th {\n",
       "        vertical-align: top;\n",
       "    }\n",
       "\n",
       "    .dataframe thead th {\n",
       "        text-align: right;\n",
       "    }\n",
       "</style>\n",
       "<table border=\"1\" class=\"dataframe\">\n",
       "  <thead>\n",
       "    <tr style=\"text-align: right;\">\n",
       "      <th></th>\n",
       "      <th>label</th>\n",
       "      <th>pixel1</th>\n",
       "      <th>pixel2</th>\n",
       "      <th>pixel3</th>\n",
       "      <th>pixel4</th>\n",
       "      <th>pixel5</th>\n",
       "      <th>pixel6</th>\n",
       "      <th>pixel7</th>\n",
       "      <th>pixel8</th>\n",
       "      <th>pixel9</th>\n",
       "      <th>...</th>\n",
       "      <th>pixel775</th>\n",
       "      <th>pixel776</th>\n",
       "      <th>pixel777</th>\n",
       "      <th>pixel778</th>\n",
       "      <th>pixel779</th>\n",
       "      <th>pixel780</th>\n",
       "      <th>pixel781</th>\n",
       "      <th>pixel782</th>\n",
       "      <th>pixel783</th>\n",
       "      <th>pixel784</th>\n",
       "    </tr>\n",
       "  </thead>\n",
       "  <tbody>\n",
       "    <tr>\n",
       "      <th>0</th>\n",
       "      <td>2</td>\n",
       "      <td>0</td>\n",
       "      <td>0</td>\n",
       "      <td>0</td>\n",
       "      <td>0</td>\n",
       "      <td>0</td>\n",
       "      <td>0</td>\n",
       "      <td>0</td>\n",
       "      <td>0</td>\n",
       "      <td>0</td>\n",
       "      <td>...</td>\n",
       "      <td>0</td>\n",
       "      <td>0</td>\n",
       "      <td>0</td>\n",
       "      <td>0</td>\n",
       "      <td>0</td>\n",
       "      <td>0</td>\n",
       "      <td>0</td>\n",
       "      <td>0</td>\n",
       "      <td>0</td>\n",
       "      <td>0</td>\n",
       "    </tr>\n",
       "    <tr>\n",
       "      <th>1</th>\n",
       "      <td>9</td>\n",
       "      <td>0</td>\n",
       "      <td>0</td>\n",
       "      <td>0</td>\n",
       "      <td>0</td>\n",
       "      <td>0</td>\n",
       "      <td>0</td>\n",
       "      <td>0</td>\n",
       "      <td>0</td>\n",
       "      <td>0</td>\n",
       "      <td>...</td>\n",
       "      <td>0</td>\n",
       "      <td>0</td>\n",
       "      <td>0</td>\n",
       "      <td>0</td>\n",
       "      <td>0</td>\n",
       "      <td>0</td>\n",
       "      <td>0</td>\n",
       "      <td>0</td>\n",
       "      <td>0</td>\n",
       "      <td>0</td>\n",
       "    </tr>\n",
       "    <tr>\n",
       "      <th>2</th>\n",
       "      <td>6</td>\n",
       "      <td>0</td>\n",
       "      <td>0</td>\n",
       "      <td>0</td>\n",
       "      <td>0</td>\n",
       "      <td>0</td>\n",
       "      <td>0</td>\n",
       "      <td>0</td>\n",
       "      <td>5</td>\n",
       "      <td>0</td>\n",
       "      <td>...</td>\n",
       "      <td>0</td>\n",
       "      <td>0</td>\n",
       "      <td>0</td>\n",
       "      <td>30</td>\n",
       "      <td>43</td>\n",
       "      <td>0</td>\n",
       "      <td>0</td>\n",
       "      <td>0</td>\n",
       "      <td>0</td>\n",
       "      <td>0</td>\n",
       "    </tr>\n",
       "    <tr>\n",
       "      <th>3</th>\n",
       "      <td>0</td>\n",
       "      <td>0</td>\n",
       "      <td>0</td>\n",
       "      <td>0</td>\n",
       "      <td>1</td>\n",
       "      <td>2</td>\n",
       "      <td>0</td>\n",
       "      <td>0</td>\n",
       "      <td>0</td>\n",
       "      <td>0</td>\n",
       "      <td>...</td>\n",
       "      <td>3</td>\n",
       "      <td>0</td>\n",
       "      <td>0</td>\n",
       "      <td>0</td>\n",
       "      <td>0</td>\n",
       "      <td>1</td>\n",
       "      <td>0</td>\n",
       "      <td>0</td>\n",
       "      <td>0</td>\n",
       "      <td>0</td>\n",
       "    </tr>\n",
       "    <tr>\n",
       "      <th>4</th>\n",
       "      <td>3</td>\n",
       "      <td>0</td>\n",
       "      <td>0</td>\n",
       "      <td>0</td>\n",
       "      <td>0</td>\n",
       "      <td>0</td>\n",
       "      <td>0</td>\n",
       "      <td>0</td>\n",
       "      <td>0</td>\n",
       "      <td>0</td>\n",
       "      <td>...</td>\n",
       "      <td>0</td>\n",
       "      <td>0</td>\n",
       "      <td>0</td>\n",
       "      <td>0</td>\n",
       "      <td>0</td>\n",
       "      <td>0</td>\n",
       "      <td>0</td>\n",
       "      <td>0</td>\n",
       "      <td>0</td>\n",
       "      <td>0</td>\n",
       "    </tr>\n",
       "  </tbody>\n",
       "</table>\n",
       "<p>5 rows × 785 columns</p>\n",
       "</div>"
      ],
      "text/plain": [
       "   label  pixel1  pixel2  pixel3  pixel4  pixel5  pixel6  pixel7  pixel8  \\\n",
       "0      2       0       0       0       0       0       0       0       0   \n",
       "1      9       0       0       0       0       0       0       0       0   \n",
       "2      6       0       0       0       0       0       0       0       5   \n",
       "3      0       0       0       0       1       2       0       0       0   \n",
       "4      3       0       0       0       0       0       0       0       0   \n",
       "\n",
       "   pixel9    ...     pixel775  pixel776  pixel777  pixel778  pixel779  \\\n",
       "0       0    ...            0         0         0         0         0   \n",
       "1       0    ...            0         0         0         0         0   \n",
       "2       0    ...            0         0         0        30        43   \n",
       "3       0    ...            3         0         0         0         0   \n",
       "4       0    ...            0         0         0         0         0   \n",
       "\n",
       "   pixel780  pixel781  pixel782  pixel783  pixel784  \n",
       "0         0         0         0         0         0  \n",
       "1         0         0         0         0         0  \n",
       "2         0         0         0         0         0  \n",
       "3         1         0         0         0         0  \n",
       "4         0         0         0         0         0  \n",
       "\n",
       "[5 rows x 785 columns]"
      ]
     },
     "execution_count": 3,
     "metadata": {},
     "output_type": "execute_result"
    }
   ],
   "source": [
    "fashion_mnist_train.head()"
   ]
  },
  {
   "cell_type": "code",
   "execution_count": 4,
   "metadata": {},
   "outputs": [
    {
     "name": "stdout",
     "output_type": "stream",
     "text": [
      "Fashion MNIST - number of rows: 60000\n"
     ]
    }
   ],
   "source": [
    "print(\"Fashion MNIST - number of rows:\", len(fashion_mnist_train))"
   ]
  },
  {
   "cell_type": "markdown",
   "metadata": {},
   "source": [
    "<div class=\"alert alert-success\">\n",
    "<b>Fashion MNIST - General overview</b><br>\n",
    "From the previous results we can see that we have a training set with 60000 rows: a large amount of data in order to (potentially) have a good training. The dimensionality is high: 785 features (28x28 resolution + 1 target). This is a problem for many models but in this case we are going to use Naïve Bayes that is really good at dealing with this fact (in the next section we'll discover why). \n",
    "</div>"
   ]
  },
  {
   "cell_type": "code",
   "execution_count": 5,
   "metadata": {},
   "outputs": [
    {
     "data": {
      "text/plain": [
       "<matplotlib.axes._subplots.AxesSubplot at 0x1a1d753128>"
      ]
     },
     "execution_count": 5,
     "metadata": {},
     "output_type": "execute_result"
    },
    {
     "data": {
      "image/png": "[encoded data removed]",
      "text/plain": [
       "<matplotlib.figure.Figure at 0x10936a828>"
      ]
     },
     "metadata": {},
     "output_type": "display_data"
    }
   ],
   "source": [
    "plt.figure(figsize=(10,10))\n",
    "pd.value_counts(fashion_mnist_train['label']).plot.bar()"
   ]
  },
  {
   "cell_type": "markdown",
   "metadata": {},
   "source": [
    "<div class=\"alert alert-success\">\n",
    "<b>Fashion MNIST - About the class distribution</b><br>\n",
    "It is really important taking a look at class distribution because based on this analysis we should take a decision on our prior (see next section for better explanation on Naïve Bayes). In this case we can see that we have the same number of instaces for each class so we can conclude that there is no prior preference; in other words we can assume that the prior distribution is uniform: each class has P(t_new = Class) = 1 / K, where K is the number of classes.\n",
    "</div>"
   ]
  },
  {
   "cell_type": "markdown",
   "metadata": {},
   "source": [
    "# 2.2 CIFAR-10 analysis"
   ]
  },
  {
   "cell_type": "code",
   "execution_count": 6,
   "metadata": {},
   "outputs": [
    {
     "data": {
      "text/html": [
       "<div>\n",
       "<style scoped>\n",
       "    .dataframe tbody tr th:only-of-type {\n",
       "        vertical-align: middle;\n",
       "    }\n",
       "\n",
       "    .dataframe tbody tr th {\n",
       "        vertical-align: top;\n",
       "    }\n",
       "\n",
       "    .dataframe thead th {\n",
       "        text-align: right;\n",
       "    }\n",
       "</style>\n",
       "<table border=\"1\" class=\"dataframe\">\n",
       "  <thead>\n",
       "    <tr style=\"text-align: right;\">\n",
       "      <th></th>\n",
       "      <th>0</th>\n",
       "      <th>1</th>\n",
       "      <th>2</th>\n",
       "      <th>3</th>\n",
       "      <th>4</th>\n",
       "      <th>5</th>\n",
       "      <th>6</th>\n",
       "      <th>7</th>\n",
       "      <th>8</th>\n",
       "      <th>9</th>\n",
       "      <th>...</th>\n",
       "      <th>3063</th>\n",
       "      <th>3064</th>\n",
       "      <th>3065</th>\n",
       "      <th>3066</th>\n",
       "      <th>3067</th>\n",
       "      <th>3068</th>\n",
       "      <th>3069</th>\n",
       "      <th>3070</th>\n",
       "      <th>3071</th>\n",
       "      <th>class</th>\n",
       "    </tr>\n",
       "  </thead>\n",
       "  <tbody>\n",
       "    <tr>\n",
       "      <th>0</th>\n",
       "      <td>59</td>\n",
       "      <td>43</td>\n",
       "      <td>50</td>\n",
       "      <td>68</td>\n",
       "      <td>98</td>\n",
       "      <td>119</td>\n",
       "      <td>139</td>\n",
       "      <td>145</td>\n",
       "      <td>149</td>\n",
       "      <td>149</td>\n",
       "      <td>...</td>\n",
       "      <td>58</td>\n",
       "      <td>65</td>\n",
       "      <td>59</td>\n",
       "      <td>46</td>\n",
       "      <td>57</td>\n",
       "      <td>104</td>\n",
       "      <td>140</td>\n",
       "      <td>84</td>\n",
       "      <td>72</td>\n",
       "      <td>6</td>\n",
       "    </tr>\n",
       "    <tr>\n",
       "      <th>1</th>\n",
       "      <td>154</td>\n",
       "      <td>126</td>\n",
       "      <td>105</td>\n",
       "      <td>102</td>\n",
       "      <td>125</td>\n",
       "      <td>155</td>\n",
       "      <td>172</td>\n",
       "      <td>180</td>\n",
       "      <td>142</td>\n",
       "      <td>111</td>\n",
       "      <td>...</td>\n",
       "      <td>42</td>\n",
       "      <td>67</td>\n",
       "      <td>101</td>\n",
       "      <td>122</td>\n",
       "      <td>133</td>\n",
       "      <td>136</td>\n",
       "      <td>139</td>\n",
       "      <td>142</td>\n",
       "      <td>144</td>\n",
       "      <td>9</td>\n",
       "    </tr>\n",
       "    <tr>\n",
       "      <th>2</th>\n",
       "      <td>255</td>\n",
       "      <td>253</td>\n",
       "      <td>253</td>\n",
       "      <td>253</td>\n",
       "      <td>253</td>\n",
       "      <td>253</td>\n",
       "      <td>253</td>\n",
       "      <td>253</td>\n",
       "      <td>253</td>\n",
       "      <td>253</td>\n",
       "      <td>...</td>\n",
       "      <td>83</td>\n",
       "      <td>80</td>\n",
       "      <td>69</td>\n",
       "      <td>66</td>\n",
       "      <td>72</td>\n",
       "      <td>79</td>\n",
       "      <td>83</td>\n",
       "      <td>83</td>\n",
       "      <td>84</td>\n",
       "      <td>9</td>\n",
       "    </tr>\n",
       "    <tr>\n",
       "      <th>3</th>\n",
       "      <td>28</td>\n",
       "      <td>37</td>\n",
       "      <td>38</td>\n",
       "      <td>42</td>\n",
       "      <td>44</td>\n",
       "      <td>40</td>\n",
       "      <td>40</td>\n",
       "      <td>24</td>\n",
       "      <td>32</td>\n",
       "      <td>43</td>\n",
       "      <td>...</td>\n",
       "      <td>39</td>\n",
       "      <td>59</td>\n",
       "      <td>42</td>\n",
       "      <td>44</td>\n",
       "      <td>48</td>\n",
       "      <td>38</td>\n",
       "      <td>28</td>\n",
       "      <td>37</td>\n",
       "      <td>46</td>\n",
       "      <td>4</td>\n",
       "    </tr>\n",
       "    <tr>\n",
       "      <th>4</th>\n",
       "      <td>170</td>\n",
       "      <td>168</td>\n",
       "      <td>177</td>\n",
       "      <td>183</td>\n",
       "      <td>181</td>\n",
       "      <td>177</td>\n",
       "      <td>181</td>\n",
       "      <td>184</td>\n",
       "      <td>189</td>\n",
       "      <td>189</td>\n",
       "      <td>...</td>\n",
       "      <td>88</td>\n",
       "      <td>85</td>\n",
       "      <td>82</td>\n",
       "      <td>83</td>\n",
       "      <td>79</td>\n",
       "      <td>78</td>\n",
       "      <td>82</td>\n",
       "      <td>78</td>\n",
       "      <td>80</td>\n",
       "      <td>1</td>\n",
       "    </tr>\n",
       "  </tbody>\n",
       "</table>\n",
       "<p>5 rows × 3073 columns</p>\n",
       "</div>"
      ],
      "text/plain": [
       "     0    1    2    3    4    5    6    7    8    9  ...    3063  3064  3065  \\\n",
       "0   59   43   50   68   98  119  139  145  149  149  ...      58    65    59   \n",
       "1  154  126  105  102  125  155  172  180  142  111  ...      42    67   101   \n",
       "2  255  253  253  253  253  253  253  253  253  253  ...      83    80    69   \n",
       "3   28   37   38   42   44   40   40   24   32   43  ...      39    59    42   \n",
       "4  170  168  177  183  181  177  181  184  189  189  ...      88    85    82   \n",
       "\n",
       "   3066  3067  3068  3069  3070  3071  class  \n",
       "0    46    57   104   140    84    72      6  \n",
       "1   122   133   136   139   142   144      9  \n",
       "2    66    72    79    83    83    84      9  \n",
       "3    44    48    38    28    37    46      4  \n",
       "4    83    79    78    82    78    80      1  \n",
       "\n",
       "[5 rows x 3073 columns]"
      ]
     },
     "execution_count": 6,
     "metadata": {},
     "output_type": "execute_result"
    }
   ],
   "source": [
    "cifar10_train.head()"
   ]
  },
  {
   "cell_type": "code",
   "execution_count": 7,
   "metadata": {},
   "outputs": [
    {
     "name": "stdout",
     "output_type": "stream",
     "text": [
      "CIFAR-10 - number of rows: 50000\n"
     ]
    }
   ],
   "source": [
    "print(\"CIFAR-10 - number of rows:\", len(cifar10_train))"
   ]
  },
  {
   "cell_type": "markdown",
   "metadata": {},
   "source": [
    "<div class=\"alert alert-success\">\n",
    "<b>CIFAR-10 - General overview</b><br>\n",
    "From the previous results we can see that we have a training set with 50000 rows. The dimensionality is really high, more than before: 3073 features; that's because in this case we have 32x32 RGB images (32x32x3 + 1 target feature). Again, with Naïve Bayes is perfect in this case (under the point of view of computational cost) but of course we don't know if all the attributes are independent (intuitively not). We'll see looking at performance metrics. \n",
    "</div>"
   ]
  },
  {
   "cell_type": "code",
   "execution_count": 8,
   "metadata": {},
   "outputs": [
    {
     "data": {
      "text/plain": [
       "<matplotlib.axes._subplots.AxesSubplot at 0x1a1d83cd30>"
      ]
     },
     "execution_count": 8,
     "metadata": {},
     "output_type": "execute_result"
    },
    {
     "data": {
      "image/png": "[encoded data removed]",
      "text/plain": [
       "<matplotlib.figure.Figure at 0x1a1d7532e8>"
      ]
     },
     "metadata": {},
     "output_type": "display_data"
    }
   ],
   "source": [
    "plt.figure(figsize=(10,10))\n",
    "pd.value_counts(cifar10_train['class']).plot.bar()"
   ]
  },
  {
   "cell_type": "markdown",
   "metadata": {},
   "source": [
    "<div class=\"alert alert-success\">\n",
    "<b>CIFAR-10 - About the class distribution</b><br>\n",
    "Even in this case we have the same number of instaces for each class. Therefore the prior distribution is again uniform: each class has P(t_new = Class) = 1 / K, where K is the number of classes.\n",
    "</div>"
   ]
  },
  {
   "cell_type": "markdown",
   "metadata": {},
   "source": [
    "# 2.3 Pre-processing suggestions"
   ]
  },
  {
   "cell_type": "markdown",
   "metadata": {},
   "source": [
    "<div class=\"alert alert-success\">\n",
    "When we talk about data pre-processing we immediately think about outliers, feature engineering and dimensionality reduction.<br><br>\n",
    "\n",
    "About the first one in this case we can't say too much in this notebook: for sure there is a lot of research out there about outlier-removal in image-classification but it is about image processing, therefore out of scope of this assignment.<br><br>\n",
    "\n",
    "About feature engineering a easy-to-do operation is scaling, which speed-up our algorithms. All the values we are dealing are between 0 and 255 (grayscale images for MNIST or single R/G/B channel for CIFAR10), so we can simply use a scale from 0 to 1. An alternative to this approach could be converting all the images in Black/White in order to have only 0 or 1 as values, simplyfing the features, but probably we would lose too much information. A reasonable transformation, in the case of CIFAR10, is converting the RGM images to grayscale: it means reducing drastically the number of features (from 3072 to 1024).<br><br>\n",
    "\n",
    "Dimensionality reduction could be a good thing, we have really high dimensional data. The first technique we may think is PCA (Principal Component Analysis). At first glance it seems a good idea because we will obtain uncorrelated features and it is the best case for Naïve Bayes. It's actually problematic: it does NOT CARE AT ALL about labels. It simply finds the directions where most of the variance is explained, but it could make our classification problem much more difficult. For example the class instances could be linearly separable but they are distributed in a certain way that after PCA they are not. We should use LDA (Linear Discriminant Analysis) but in this case we are talking about another model, i.e. supervised learning.\n",
    "</div>"
   ]
  },
  {
   "cell_type": "markdown",
   "metadata": {},
   "source": [
    "<img style=\"width:800px; height:400px\" src=\"http://sebastianraschka.com/images/blog/2014/linear-discriminant-analysis/lda_1.png\">"
   ]
  },
  {
   "cell_type": "markdown",
   "metadata": {},
   "source": [
    "# 3 Classification"
   ]
  },
  {
   "cell_type": "markdown",
   "metadata": {},
   "source": [
    "## 3.1 Naïve Bayes implementation"
   ]
  },
  {
   "cell_type": "markdown",
   "metadata": {},
   "source": [
    "<div class=\"alert alert-success\">\n",
    "<b>Naïve Bayes: the goal</b><br>\n",
    "In this classification model we would compute, given the input x, the probability that it belongs to class C_k. But in many cases this task is unfeasible, for this reason we use the Bayes theorem to solve the problem from another point of view.\n",
    "</div>"
   ]
  },
  {
   "cell_type": "markdown",
   "metadata": {},
   "source": [
    "<img src=\"https://wikimedia.org/api/rest_v1/media/math/render/svg/52bd0ca5938da89d7f9bf388dc7edcbd546c118e\">\n",
    "<img src=\"https://wikimedia.org/api/rest_v1/media/math/render/svg/b0122d84d632cc399d2a49924797f37a7db53b0c\">"
   ]
  },
  {
   "cell_type": "markdown",
   "metadata": {},
   "source": [
    "<div class=\"alert alert-success\">\n",
    "<b>Naïve Bayes: how to proceed</b><br>\n",
    "As showed in the last pictures, we should define a prior and compute the likelihood in order to get what we are looking for. From the previous analysis we have decided that the prior is a uniform distribution, where each class has probability 1/K. In the case of likelihood we suppose that attributes have normal distribution, so we can easily compute the likelihood for each attribute with this formula:\n",
    "<img src=\"https://wikimedia.org/api/rest_v1/media/math/render/svg/685339e22f57b18d804f2e0a9c507421da59e2ab\">\n",
    "</div>"
   ]
  },
  {
   "cell_type": "markdown",
   "metadata": {},
   "source": [
    "<div class=\"alert alert-success\">\n",
    "<b>Naïve Bayes: pros and cons</b><br>\n",
    "This model is really easy to implement and computationally fast, especially when we are dealing with large amout of data with high dimensionality (like in our case). The other side of the coin is the model makes a strong assumption: <u>independence among features</u>; for this reason it is called \"naïve\". This assumption brings all the advantages which I talked about before but at the same time we should care if it is (quite) true in our data. If it is not, probably we'll have poor results.<br><br>\n",
    "\n",
    "Making this assumption our life is easy: in order to compute p(x | C_k) we can simply compute the likelihood for each attribute and multiply them to obtain the likelihood for a specific class. At the end we simply choose the most likely:\n",
    "<img src=\"https://wikimedia.org/api/rest_v1/media/math/render/svg/5ed52009429e5f3028302427a067822fdfc58059\">\n",
    "</div>"
   ]
  },
  {
   "cell_type": "code",
   "execution_count": 9,
   "metadata": {},
   "outputs": [],
   "source": [
    "class NaiveBayes:\n",
    "    def __init__(self, priors=None):\n",
    "        self.noise = 0.0001\n",
    "        self.priors = priors\n",
    "    \n",
    "    \n",
    "    def fit(self, X, y):\n",
    "        \n",
    "        # separate rows by target class\n",
    "        \n",
    "        separated = [[x for x, t in zip(X, y) if t == c] for c in np.unique(y)]\n",
    "        \n",
    "        # for all the rows belonging to the same class compute the mean and std dev for each attribute\n",
    "        # obtaining two matrices nb of classes x nb of features\n",
    "        # adding some noise in stds to avoid instability (division by zero problem)\n",
    "        \n",
    "        self.means = np.array([np.mean(g, axis=0) for g in separated])\n",
    "        self.stds = np.array([np.std(g, axis=0) for g in separated]) + self.noise\n",
    "        \n",
    "        # check if the prior is set otherwise assume uniform\n",
    "        \n",
    "        if self.priors is not None:\n",
    "            if len(self.priors) != len(self.means):\n",
    "                raise ValueError('The lenght of priors is not equal to the number of classes in your data')\n",
    "        else:\n",
    "            self.priors = np.repeat(1 / len(self.means), len(self.means))\n",
    "              \n",
    "    def predict(self, X, return_likelihoods=False):\n",
    "        \n",
    "        # for each row apply the function that compute the likelihood for each class and return the best one\n",
    "        \n",
    "        self.return_likelihoods = return_likelihoods\n",
    "        return np.apply_along_axis(self.predict_class_by_row, 1, X)\n",
    "    \n",
    "    \n",
    "    def predict_class_by_row(self, row):\n",
    "        \n",
    "        # apply normal pdf in matrix form\n",
    "        # for each row (number of classes) we got the log(likelihood) for an attribute in that class\n",
    "        # using the log in order to avoid instability because of too small values\n",
    "        # instead of np.prod use np.sum thanks to log operation\n",
    "        # summing by row (independent attributes) we obtain the log(likelihood) for the i-th class\n",
    "        # return that with higher posterior (and eventyally the likelihood too, for metrics)\n",
    "        \n",
    "        P = np.sum(np.log(1 / (2 * self.stds * np.sqrt(2*np.pi))) -\n",
    "                   np.divide((row - self.means)**2, 2 * self.stds**2), axis=1) + np.log(self.priors)\n",
    "        class_value = np.argmax(P)\n",
    "        if self.return_likelihoods:\n",
    "            return class_value, P[class_value] - self.priors[class_value]\n",
    "        return class_value"
   ]
  },
  {
   "cell_type": "markdown",
   "metadata": {},
   "source": [
    "## 3.2 Naive Bayes on CIFAR-10"
   ]
  },
  {
   "cell_type": "code",
   "execution_count": 10,
   "metadata": {},
   "outputs": [],
   "source": [
    "model = NaiveBayes()\n",
    "X_train = cifar10_train.drop(columns=\"class\").as_matrix() / 255\n",
    "y_train = cifar10_train[\"class\"].as_matrix()\n",
    "model.fit(X_train, y_train)"
   ]
  },
  {
   "cell_type": "code",
   "execution_count": 11,
   "metadata": {},
   "outputs": [
    {
     "name": "stdout",
     "output_type": "stream",
     "text": [
      "Prediction completed. Duration: 8.0s\n",
      "The accuracy is: 29.75%\n",
      "The log-likelihood is: -18195828.43\n",
      "The average log-likelihood for correct predictions is: -1780.57\n",
      "The average log-likelihood for wrong predictions is: -1836.11\n"
     ]
    }
   ],
   "source": [
    "start = time.time()\n",
    "X_test = cifar10_test.drop(columns=\"class\").as_matrix() / 255\n",
    "y_pred = model.predict(X_test, True)\n",
    "print(\"Prediction completed. Duration: %.1fs\" % (time.time() - start))\n",
    "show_performance(cifar10_test[\"class\"], y_pred[:,0], y_pred[:,1])"
   ]
  },
  {
   "cell_type": "markdown",
   "metadata": {},
   "source": [
    "<div class=\"alert alert-success\">\n",
    "The computational performances of our custom model are really good. As expected the computional cost of Naïve Bayes is really low even for large and high-dimensional data.\n",
    "</div>"
   ]
  },
  {
   "cell_type": "code",
   "execution_count": 12,
   "metadata": {},
   "outputs": [
    {
     "data": {
      "image/png": "[encoded data removed]",
      "text/plain": [
       "<matplotlib.figure.Figure at 0x1a1d851160>"
      ]
     },
     "metadata": {},
     "output_type": "display_data"
    }
   ],
   "source": [
    "plt.figure(figsize=(10,10))\n",
    "confusion_matrix_data = confusion_matrix(cifar10_test[\"class\"], y_pred[:,0])\n",
    "ax = sns.heatmap(confusion_matrix_data, annot=True, cbar=False, square=True, fmt='d', cmap=\"YlGnBu\")"
   ]
  },
  {
   "cell_type": "markdown",
   "metadata": {},
   "source": [
    "## 3.3 Naive Bayes on fashion MNIST"
   ]
  },
  {
   "cell_type": "code",
   "execution_count": 13,
   "metadata": {},
   "outputs": [],
   "source": [
    "model2 = NaiveBayes()\n",
    "X_train = fashion_mnist_train.drop(columns=\"label\").as_matrix() / 255\n",
    "y_train = fashion_mnist_train[\"label\"].as_matrix()\n",
    "model2.fit(X_train, y_train)"
   ]
  },
  {
   "cell_type": "code",
   "execution_count": 14,
   "metadata": {},
   "outputs": [
    {
     "name": "stdout",
     "output_type": "stream",
     "text": [
      "Prediction completed. Duration: 2.6s\n",
      "The accuracy is: 60.20%\n",
      "The log-likelihood is: 2894875.35\n",
      "The average log-likelihood for correct predictions is: 308.63\n",
      "The average log-likelihood for wrong predictions is: 260.54\n"
     ]
    }
   ],
   "source": [
    "start = time.time()\n",
    "X_test = fashion_mnist_test.drop(columns=\"label\").as_matrix() / 255\n",
    "y_pred = model2.predict(X_test, True)\n",
    "print(\"Prediction completed. Duration: %.1fs\" % (time.time() - start))\n",
    "show_performance(fashion_mnist_test[\"label\"], y_pred[:,0], y_pred[:,1])"
   ]
  },
  {
   "cell_type": "markdown",
   "metadata": {},
   "source": [
    "<div class=\"alert alert-warning\">\n",
    "We get <b>positive likelihoods</b> because of scaling factor. Having (sometimes) small standard deviations at the denominator of the log argument, we obtain positive values. Of course this fact doesn't change the general meaning of our discussion, which analyze these values relatively to the others.\n",
    "</div>"
   ]
  },
  {
   "cell_type": "code",
   "execution_count": 15,
   "metadata": {},
   "outputs": [
    {
     "data": {
      "image/png": "[encoded data removed]",
      "text/plain": [
       "<matplotlib.figure.Figure at 0x10cfa64a8>"
      ]
     },
     "metadata": {},
     "output_type": "display_data"
    }
   ],
   "source": [
    "plt.figure(figsize=(10,10))\n",
    "confusion_matrix_data = confusion_matrix(fashion_mnist_test[\"label\"], y_pred[:,0])\n",
    "ax = sns.heatmap(confusion_matrix_data, annot=True, cbar=False, square=True, fmt='d', cmap=\"YlGnBu\")"
   ]
  },
  {
   "cell_type": "markdown",
   "metadata": {},
   "source": [
    "## 3.4 Discussion of performances"
   ]
  },
  {
   "cell_type": "markdown",
   "metadata": {},
   "source": [
    "### 3.4.1 Comparison with random classifier"
   ]
  },
  {
   "cell_type": "code",
   "execution_count": 16,
   "metadata": {},
   "outputs": [
    {
     "name": "stdout",
     "output_type": "stream",
     "text": [
      "The accuracy of random model for Fashion MNIST is: 10.15%\n",
      "The accuracy of random model for CIFAR-10 is: 9.91%\n"
     ]
    }
   ],
   "source": [
    "random_y_pred_cifar = np.random.randint(low=0, high=10, size=len(cifar10_test))\n",
    "random_y_pred_mnist = np.random.randint(low=0, high=10, size=len(fashion_mnist_test))\n",
    "print(\"The accuracy of random model for Fashion MNIST is: %.2f%%\" % ((fashion_mnist_test[\"label\"] == random_y_pred_mnist).sum() / len(fashion_mnist_test) * 100))\n",
    "print(\"The accuracy of random model for CIFAR-10 is: %.2f%%\" % ((cifar10_test[\"class\"] == random_y_pred_mnist).sum() / len(cifar10_test) * 100))"
   ]
  },
  {
   "cell_type": "markdown",
   "metadata": {},
   "source": [
    "<div class=\"alert alert-success\">\n",
    "<b>Random classifier comparison</b><br>\n",
    "Of course the accuracy of random classifier is really poor. The accuracy is about 10%, the same result we would obtain if we predict always the same class. We obtained better result but not so much, especially in the case of CIFAR-10 dataset where the accuracy is only about 30%.\n",
    "</div>"
   ]
  },
  {
   "cell_type": "markdown",
   "metadata": {},
   "source": [
    "### 3.4.2 Suggestions to improve"
   ]
  },
  {
   "cell_type": "markdown",
   "metadata": {},
   "source": [
    "<div class=\"alert alert-success\">\n",
    "In general we didn't obtain good results. We can't do much with the pre-processing because we are wrong a priori: the independence between features is not true (and if you think about, it is reasonable to think that pixels are correlated). Essentialy we should use a model that doesn't make this assumption. As we said before we could use LDA, but in this case we make another assumption: the classes are linearly separable. I tried the scikit implementation and actually improved the accuracy but I did't report anything because I haven't implemented it, for this reason it is not really interesting in this domain. Out there we can find many off-the-shelf models that outperforms the Naïve Bayes. \n",
    "<br><br>Now we'll implement Bayesian linear regression to test a completely different approach.\n",
    "</div>"
   ]
  },
  {
   "cell_type": "markdown",
   "metadata": {},
   "source": [
    "# 4 Bayesian linear regression"
   ]
  },
  {
   "cell_type": "markdown",
   "metadata": {},
   "source": [
    "## 4.1 Implementation"
   ]
  },
  {
   "cell_type": "code",
   "execution_count": 19,
   "metadata": {},
   "outputs": [],
   "source": [
    "from numpy.random import normal\n",
    "\n",
    "class BayesianLinReg:\n",
    "    def __init__(self):\n",
    "        pass\n",
    "    \n",
    "    def fit(self, X, y, S):\n",
    "        '''\n",
    "        X: feature matrix - 2D\n",
    "        y: target array\n",
    "        S: covariance matrix of the prior\n",
    "        '''\n",
    "        \n",
    "        # add the column of '1's in the matrix\n",
    "        X1 = self.get_X1(X)\n",
    "        \n",
    "        # compute w_hat solving the linear system instead of computing the inverse - computational saving\n",
    "        w_hat = np.linalg.solve(X1.T.dot(X1), X1.T.dot(np.array(y)))\n",
    "        \n",
    "        # computing the sigma2 from our data\n",
    "        self.sigma2_hat = (y - X1.dot(w_hat)).T.dot(y - X1.dot(w_hat)) / len(X1)\n",
    "        \n",
    "        # posterior covariance\n",
    "        self.posterior_cov = np.linalg.inv(X1.T.dot(X1) / self.sigma2_hat + np.linalg.inv(S))\n",
    "        # posterior mean \n",
    "        self.posterior_mean = self.posterior_cov.dot(X1.T).dot(y) / self.sigma2_hat\n",
    "        \n",
    "        \n",
    "    def get_X1(self, X):\n",
    "        X1 = np.ones((len(X), len(X[0])+1))\n",
    "        X1[:,:-1] = X\n",
    "        return X1\n",
    "    \n",
    "    def predict(self, X):\n",
    "        X1 = self.get_X1(X)\n",
    "        predictions = np.zeros(len(X))\n",
    "        \n",
    "        #for each x_new compute the (normal) expecation and sample from it\n",
    "        for i in range(len(X1)):\n",
    "            x_new = X1[i,:]\n",
    "            # the expectation is the integral of the product between the posterior and p(t_new | x_new, w_hat, sigma2)\n",
    "            # both are normal so the integral is a normal distribution with the following mean and variance\n",
    "            # for further reading \"A first course in Machine Learning\" at page 130\n",
    "            predictions[i] = normal(x_new.T.dot(self.posterior_mean), \n",
    "                                    self.sigma2_hat + x_new.T.dot(self.posterior_cov).dot(x_new))\n",
    "        return predictions\n",
    "    \n",
    "    def get_cov_w_hat(self, X):\n",
    "        X1 = self.get_X1(X)\n",
    "        return self.sigma2_hat * np.linalg.inv(X1.T.dot(X1))"
   ]
  },
  {
   "cell_type": "markdown",
   "metadata": {},
   "source": [
    "## 4.2 Fashion MNIST"
   ]
  },
  {
   "cell_type": "code",
   "execution_count": 73,
   "metadata": {},
   "outputs": [
    {
     "name": "stdout",
     "output_type": "stream",
     "text": [
      "MSE: 5.60\n"
     ]
    }
   ],
   "source": [
    "X_train = fashion_mnist_train.drop(columns=\"label\").as_matrix() / 255\n",
    "y_train = fashion_mnist_train[\"label\"].as_matrix()\n",
    "X_test = fashion_mnist_test.drop(columns=\"label\").as_matrix() / 255\n",
    "blr = BayesianLinReg()\n",
    "S = np.diag( [100]*(len(X_train[0])+1) )\n",
    "y_train_matrix = keras.utils.to_categorical(y_train, 10)\n",
    "blr.fit(X_train, y_train, S)\n",
    "predictions = blr.predict(X_test)\n",
    "print(\"MSE: %.2f\" % mean_squared_error(fashion_mnist_test[\"label\"], predictions))"
   ]
  },
  {
   "cell_type": "markdown",
   "metadata": {},
   "source": [
    "<div class=\"alert alert-success\">\n",
    "The obtained result is very bad. I tried to change something in the prior and play with the posterior and/or with the normal distribution of the expectation: at the end I figured out the quantity <i>sigma2_hat</i> that we sum to compute the variance of the normal expectation is very high; in few words we try to take care about the high uncertainty present in our data (from the linear regression point of view, of course) but this choice leads to worse results. Deleting this term we have the \"best\" MSE (<b>1.96</b>), but in this case we take almost always the mean of the normal distribution, in other words we are doing likelihood-based linear regression. \n",
    "</div>"
   ]
  },
  {
   "cell_type": "code",
   "execution_count": 57,
   "metadata": {},
   "outputs": [
    {
     "data": {
      "image/png": "[encoded data removed]",
      "text/plain": [
       "<matplotlib.figure.Figure at 0x1a2daebdd8>"
      ]
     },
     "metadata": {},
     "output_type": "display_data"
    }
   ],
   "source": [
    "plt.figure(figsize=(10,10))\n",
    "plt.yticks(list(range(10)))\n",
    "plt.scatter(predictions, fashion_mnist_test[\"label\"])\n",
    "plt.title(\"Fashion MNIST dataset\")\n",
    "plt.ylabel(\"True\")\n",
    "plt.xlabel(\"Predicted\")\n",
    "plt.show()"
   ]
  },
  {
   "cell_type": "code",
   "execution_count": 76,
   "metadata": {},
   "outputs": [
    {
     "name": "stdout",
     "output_type": "stream",
     "text": [
      "Percentage of points below 0.0001: 0.91156%\n"
     ]
    }
   ],
   "source": [
    "cov_w_hat = blr.get_cov_w_hat(X_train)\n",
    "print(\"Percentage of points below 0.0001: %.5f%%\" % (cov_w_hat[cov_w_hat < 10**-4].size / cov_w_hat.size))"
   ]
  },
  {
   "cell_type": "markdown",
   "metadata": {},
   "source": [
    "<div class=\"alert alert-success\">\n",
    "The plot shows what we've just discussed: for each true class, the prediction values are spread out in a huge range that in the most case covers the whole interval between 0 and 9 but not only, crossing these values and reaching -5 or 15. I've also computed the <b><i>cov{w_hat}</i></b> trying to looking for confirms: the majority of the values inside, which tell us how well defined the parameters are by the data, are really low!\n",
    "</div>"
   ]
  },
  {
   "cell_type": "markdown",
   "metadata": {},
   "source": [
    "<div class=\"alert alert-success\">\n",
    "In order to discretize the prediction values I've simply rounded to the nearest integer. All the negative values (-1, -2, ...) and greater than 9 are then transformed respectively to '0' and '9' class. At this point we can evaluate the accuracy and the confusion matrix.\n",
    "</div>"
   ]
  },
  {
   "cell_type": "code",
   "execution_count": 59,
   "metadata": {},
   "outputs": [
    {
     "name": "stdout",
     "output_type": "stream",
     "text": [
      "Accuracy for MNIST: 22.41%\n"
     ]
    }
   ],
   "source": [
    "predictions = np.rint(predictions).astype(int)\n",
    "predictions[predictions < 0] = 0\n",
    "predictions[predictions > 9] = 9\n",
    "print(\"Accuracy for MNIST: %.2f%%\" % ((fashion_mnist_test[\"label\"] == predictions).sum() / len(fashion_mnist_test) * 100))"
   ]
  },
  {
   "cell_type": "code",
   "execution_count": 60,
   "metadata": {},
   "outputs": [
    {
     "data": {
      "image/png": "[encoded data removed]",
      "text/plain": [
       "<matplotlib.figure.Figure at 0x1a2dad8550>"
      ]
     },
     "metadata": {},
     "output_type": "display_data"
    }
   ],
   "source": [
    "plt.figure(figsize=(10,10))\n",
    "confusion_matrix_data = confusion_matrix(fashion_mnist_test[\"label\"], predictions)\n",
    "ax = sns.heatmap(confusion_matrix_data, annot=True, cbar=False, square=True, fmt='d', cmap=\"YlGnBu\")"
   ]
  },
  {
   "cell_type": "markdown",
   "metadata": {},
   "source": [
    "<div class=\"alert alert-success\">\n",
    "From the showed results we can conclude that linear regression is a bad model for this problem. We didn't get good results at all. The accuracy is much lower with respect to Naïve Bayes. It can only predict (quite) correctly class 1 but for all the others the model is getting confused (especially, but not only!) between classes tc, tc-1 and tc+1, where 'tc' stands for true class.<br><br>\n",
    "\n",
    "The model is wrong for several reasons: first of all we are assuming that there is a linear relationship between the features and the target. Another problem is the target itself: we are assuming that there is a sort of order in the values but it is not true in reality. Numbers are a convention to encode class names. In addition (and it's a big issue) the predictions are also numerical (floating) values and there is no objective rule to convert them into a categorial value. We chose an easy and reasonable way to do it but it is wrong in most of the cases, just take a look at class 2 and 3 in confusion matrix: we probably obtained a lot of values greater than 2.5 (so mapped to 3) but they actually are class 2 and even the contrary. \n",
    "</div>"
   ]
  },
  {
   "cell_type": "markdown",
   "metadata": {},
   "source": [
    "## 4.2b A new discretization approach"
   ]
  },
  {
   "cell_type": "markdown",
   "metadata": {},
   "source": [
    "<div class=\"alert alert-success\">\n",
    "From the previous result we realize that we should rethink our approach about class labels. In order to avoid all the problems that we talked about in the last section we use a completely different approach. We apply the OneHotEncoder on the target variable and we run multiple times the linear regression, one for each class label. At the end, for each test-sample, we have 10 regression values: in theory we should assign the class with the nearest value to 1, but here we are dealing with linear regression so we can have values greater than 1! In few words, we simply do an argmax, choosing the highest value as predicted class. Of course in this case we don't need an additional step to discretize and computing MSE doesn't make any sense. Let's see if this approach improve our results. \n",
    "</div>"
   ]
  },
  {
   "cell_type": "code",
   "execution_count": 61,
   "metadata": {},
   "outputs": [
    {
     "name": "stdout",
     "output_type": "stream",
     "text": [
      "Accuracy for MNIST: 81.85%\n"
     ]
    }
   ],
   "source": [
    "X_train = fashion_mnist_train.drop(columns=\"label\").as_matrix() / 255\n",
    "y_train = fashion_mnist_train[\"label\"].as_matrix()\n",
    "X_test = fashion_mnist_test.drop(columns=\"label\").as_matrix() / 255\n",
    "\n",
    "blr = BayesianLinReg()\n",
    "\n",
    "S = np.diag( [100]*(len(X_train[0])+1) ) # prior covariance\n",
    "y_train_matrix = keras.utils.to_categorical(y_train, 10)\n",
    "predictions = np.zeros((len(X_test), 10))\n",
    "for i in range(10):\n",
    "    # fit for each class-column\n",
    "    blr.fit(X_train, y_train_matrix[:,i], S)\n",
    "    predictions[:,i] = blr.predict(X_test)\n",
    "    \n",
    "# take the class with the highest value\n",
    "predictions = np.argmax(predictions, axis=1)\n",
    "print(\"Accuracy for MNIST: %.2f%%\" % ((fashion_mnist_test[\"label\"] == predictions).sum() / len(fashion_mnist_test) * 100))"
   ]
  },
  {
   "cell_type": "markdown",
   "metadata": {},
   "source": [
    "<div class=\"alert alert-success\">\n",
    "<b>Huge improvement!</b> The new approach seems to work: we improved the accuracy about 20% and bayesian approach works better in this case. We have helped the Bayesian Linear Regression: in this case it doesn't handle all the classes together but we create a specific model for each class, solving all the problems that could occur as explained before.\n",
    "</div>"
   ]
  },
  {
   "cell_type": "code",
   "execution_count": 62,
   "metadata": {},
   "outputs": [
    {
     "data": {
      "image/png": "[encoded data removed]",
      "text/plain": [
       "<matplotlib.figure.Figure at 0x1a2daf0b00>"
      ]
     },
     "metadata": {},
     "output_type": "display_data"
    }
   ],
   "source": [
    "plt.figure(figsize=(10,10))\n",
    "confusion_matrix_data = confusion_matrix(fashion_mnist_test[\"label\"], predictions)\n",
    "ax = sns.heatmap(confusion_matrix_data, annot=True, cbar=False, square=True, fmt='d', cmap=\"YlGnBu\")"
   ]
  },
  {
   "cell_type": "markdown",
   "metadata": {},
   "source": [
    "## 4.3 CIFAR-10"
   ]
  },
  {
   "cell_type": "code",
   "execution_count": 64,
   "metadata": {},
   "outputs": [
    {
     "name": "stdout",
     "output_type": "stream",
     "text": [
      "MSE: 65.02\n"
     ]
    }
   ],
   "source": [
    "X_train = cifar10_train.drop(columns=\"class\").as_matrix() / 255\n",
    "y_train = cifar10_train[\"class\"].as_matrix()\n",
    "X_test = cifar10_test.drop(columns=\"class\").as_matrix() / 255\n",
    "\n",
    "blr2 = BayesianLinReg()\n",
    "\n",
    "S = np.diag( [50]*(len(X_train[0])+1) ) # prior covariance\n",
    "blr2.fit(X_train, y_train, S)\n",
    "predictions = blr2.predict(X_test)\n",
    "print(\"MSE: %.2f\" % mean_squared_error(fashion_mnist_test[\"label\"], predictions))"
   ]
  },
  {
   "cell_type": "markdown",
   "metadata": {},
   "source": [
    "<div class=\"alert alert-success\">\n",
    "<b>Horrible result</b><br>\n",
    "Essentialy we have the same problem as before but hugely amplified due to the more complex (in terms of dimensionality) data we have.\n",
    "</div>"
   ]
  },
  {
   "cell_type": "code",
   "execution_count": 65,
   "metadata": {},
   "outputs": [
    {
     "data": {
      "image/png": "[encoded data removed]",
      "text/plain": [
       "<matplotlib.figure.Figure at 0x1a339e3630>"
      ]
     },
     "metadata": {},
     "output_type": "display_data"
    }
   ],
   "source": [
    "plt.figure(figsize=(10,10))\n",
    "plt.yticks(list(range(10)))\n",
    "plt.scatter(predictions, fashion_mnist_test[\"label\"])\n",
    "plt.title(\"CIFAR-10 dataset\")\n",
    "plt.ylabel(\"True\")\n",
    "plt.xlabel(\"Predicted\")\n",
    "plt.show()"
   ]
  },
  {
   "cell_type": "markdown",
   "metadata": {},
   "source": [
    "<div class=\"alert alert-success\">\n",
    "Even in this case we have a huge variance. From the plot we see that we obtain huge values as predictions, passing -30 and 30.\n",
    "</div>"
   ]
  },
  {
   "cell_type": "code",
   "execution_count": 103,
   "metadata": {},
   "outputs": [
    {
     "name": "stdout",
     "output_type": "stream",
     "text": [
      "Accuracy for CIFAR-10: 10.34%\n"
     ]
    }
   ],
   "source": [
    "predictions = np.rint(predictions).astype(int)\n",
    "predictions[predictions < 0] = 0\n",
    "predictions[predictions > 9] = 9\n",
    "print(\"Accuracy for CIFAR-10: %.2f%%\" % ((cifar10_test[\"class\"] == predictions).sum() / len(cifar10_test) * 100))"
   ]
  },
  {
   "cell_type": "markdown",
   "metadata": {},
   "source": [
    "<div class=\"alert alert-success\">\n",
    "This model with these data is totally useless. We got the same result of a random classifier. I tried also to drop the huge <i>sigma2_hat</i> term (as explained before) to switch to a likelihood-based linear regression but, although we get a far better MSE, the result on the accuracy it is the same. In that case the majority of the prediction values are between 4 and 5. Even in this case we are biased towards two (but different) classes, let's see the confusion matrix.\n",
    "</div>"
   ]
  },
  {
   "cell_type": "code",
   "execution_count": 104,
   "metadata": {},
   "outputs": [
    {
     "data": {
      "image/png": "[encoded data removed]",
      "text/plain": [
       "<matplotlib.figure.Figure at 0x1158a7a58>"
      ]
     },
     "metadata": {},
     "output_type": "display_data"
    }
   ],
   "source": [
    "plt.figure(figsize=(10,10))\n",
    "confusion_matrix_data = confusion_matrix(cifar10_test[\"class\"], predictions)\n",
    "ax = sns.heatmap(confusion_matrix_data, annot=True, cbar=False, square=True, fmt='d', cmap=\"YlGnBu\")"
   ]
  },
  {
   "cell_type": "markdown",
   "metadata": {},
   "source": [
    "<div class=\"alert alert-success\">\n",
    "The simplest discretization approach that we used so far had a lot of problems here: most of the values saturate to 0 or 9, in this way we can say that we actually predict always these 2 classes. Now we are going to use the new discretization approach as before.\n",
    "</div>"
   ]
  },
  {
   "cell_type": "markdown",
   "metadata": {},
   "source": [
    "## 4.3b A new discretization approach"
   ]
  },
  {
   "cell_type": "code",
   "execution_count": 60,
   "metadata": {},
   "outputs": [
    {
     "name": "stdout",
     "output_type": "stream",
     "text": [
      "Accuracy for CIFAR-10: 32.52%\n"
     ]
    }
   ],
   "source": [
    "X_train = cifar10_train.drop(columns=\"class\").as_matrix() / 255\n",
    "y_train = cifar10_train[\"class\"].as_matrix()\n",
    "X_test = cifar10_test.drop(columns=\"class\").as_matrix() / 255\n",
    "\n",
    "blr = BayesianLinReg()\n",
    "\n",
    "S = np.diag( [100]*(len(X_train[0])+1) ) # prior covariance\n",
    "y_train_matrix = keras.utils.to_categorical(y_train, 10)\n",
    "predictions = np.zeros((len(X_test), 10))\n",
    "for i in range(10):\n",
    "    # fit for each class-column\n",
    "    blr.fit(X_train, y_train_matrix[:,i], S)\n",
    "    predictions[:,i] = blr.predict(X_test)\n",
    "    \n",
    "# take the class with the highest value\n",
    "predictions = np.argmax(predictions, axis=1)\n",
    "print(\"Accuracy for CIFAR-10: %.2f%%\" % ((cifar10_test[\"class\"] == predictions).sum() / len(cifar10_test) * 100))"
   ]
  },
  {
   "cell_type": "markdown",
   "metadata": {},
   "source": [
    "<div class=\"alert alert-success\">\n",
    "Using the new approach we improved the result, obtaining a better result than the Naïve Bayes one. Of course it is still objectively low.\n",
    "</div>"
   ]
  },
  {
   "cell_type": "code",
   "execution_count": 61,
   "metadata": {},
   "outputs": [
    {
     "data": {
      "image/png": "[encoded data removed]",
      "text/plain": [
       "<matplotlib.figure.Figure at 0x1a206d2fd0>"
      ]
     },
     "metadata": {},
     "output_type": "display_data"
    }
   ],
   "source": [
    "plt.figure(figsize=(10,10))\n",
    "confusion_matrix_data = confusion_matrix(cifar10_test[\"class\"], predictions)\n",
    "ax = sns.heatmap(confusion_matrix_data, annot=True, cbar=False, square=True, fmt='d', cmap=\"YlGnBu\")"
   ]
  },
  {
   "cell_type": "markdown",
   "metadata": {},
   "source": [
    "<div class=\"alert alert-success\">\n",
    "Even though it contains a lot of false predictions, the confusion matrix is now quite normal. We don't have the \"saturation problem\" as before, because with the new approach we take care of classes one by one.\n",
    "</div>"
   ]
  },
  {
   "cell_type": "markdown",
   "metadata": {},
   "source": [
    "# 5 Bonus questions "
   ]
  },
  {
   "cell_type": "markdown",
   "metadata": {},
   "source": [
    "## 5.1 CNN for Fashion MNIST  "
   ]
  },
  {
   "cell_type": "code",
   "execution_count": 17,
   "metadata": {},
   "outputs": [
    {
     "name": "stdout",
     "output_type": "stream",
     "text": [
      "Train on 54000 samples, validate on 6000 samples\n",
      "Epoch 1/15\n",
      "54000/54000 [==============================] - 53s 988us/step - loss: 0.7048 - acc: 0.7444 - val_loss: 0.4410 - val_acc: 0.8420\n",
      "Epoch 2/15\n",
      "54000/54000 [==============================] - 50s 930us/step - loss: 0.4500 - acc: 0.8371 - val_loss: 0.3710 - val_acc: 0.8653\n",
      "Epoch 3/15\n",
      "54000/54000 [==============================] - 54s 1ms/step - loss: 0.3932 - acc: 0.8578 - val_loss: 0.3422 - val_acc: 0.8815\n",
      "Epoch 4/15\n",
      "54000/54000 [==============================] - 53s 979us/step - loss: 0.3590 - acc: 0.8712 - val_loss: 0.3045 - val_acc: 0.8898\n",
      "Epoch 5/15\n",
      "54000/54000 [==============================] - 54s 991us/step - loss: 0.3355 - acc: 0.8785 - val_loss: 0.2968 - val_acc: 0.8943\n",
      "Epoch 6/15\n",
      "54000/54000 [==============================] - 55s 1ms/step - loss: 0.3173 - acc: 0.8879 - val_loss: 0.2912 - val_acc: 0.8935\n",
      "Epoch 7/15\n",
      "54000/54000 [==============================] - 54s 995us/step - loss: 0.3027 - acc: 0.8913 - val_loss: 0.2824 - val_acc: 0.9005\n",
      "Epoch 8/15\n",
      "54000/54000 [==============================] - 57s 1ms/step - loss: 0.2897 - acc: 0.8949 - val_loss: 0.2644 - val_acc: 0.9043\n",
      "Epoch 9/15\n",
      "54000/54000 [==============================] - 66s 1ms/step - loss: 0.2801 - acc: 0.8980 - val_loss: 0.2628 - val_acc: 0.9083\n",
      "Epoch 10/15\n",
      "54000/54000 [==============================] - 52s 960us/step - loss: 0.2694 - acc: 0.9025 - val_loss: 0.2538 - val_acc: 0.9097\n",
      "Epoch 11/15\n",
      "54000/54000 [==============================] - 49s 912us/step - loss: 0.2620 - acc: 0.9049 - val_loss: 0.2513 - val_acc: 0.9093\n",
      "Epoch 12/15\n",
      "54000/54000 [==============================] - 51s 936us/step - loss: 0.2540 - acc: 0.9077 - val_loss: 0.2433 - val_acc: 0.9135\n",
      "Epoch 13/15\n",
      "54000/54000 [==============================] - 49s 903us/step - loss: 0.2474 - acc: 0.9101 - val_loss: 0.2588 - val_acc: 0.9075\n",
      "Epoch 14/15\n",
      "54000/54000 [==============================] - 55s 1ms/step - loss: 0.2414 - acc: 0.9117 - val_loss: 0.2433 - val_acc: 0.9152\n",
      "Epoch 15/15\n",
      "54000/54000 [==============================] - 51s 948us/step - loss: 0.2335 - acc: 0.9149 - val_loss: 0.2429 - val_acc: 0.9143\n",
      "Test loss: 0.21973832303881646\n",
      "Test accuracy: 0.9184\n"
     ]
    }
   ],
   "source": [
    "batch_size = 128\n",
    "num_classes = 10\n",
    "epochs = 15\n",
    "\n",
    "# input image dimensions\n",
    "img_rows, img_cols = 28, 28\n",
    "\n",
    "# the data, split between train and test sets\n",
    "X_train = fashion_mnist_train.drop(columns=\"label\").as_matrix() / 255\n",
    "y_train = fashion_mnist_train[\"label\"].as_matrix()\n",
    "X_test = fashion_mnist_test.drop(columns=\"label\").as_matrix() / 255\n",
    "y_test = fashion_mnist_test[\"label\"].as_matrix()\n",
    "\n",
    "# choose the correct shape of the input (flatten is not good!) based on our running libraries\n",
    "if K.image_data_format() == 'channels_first':\n",
    "    X_train_cnn = X_train.reshape(X_train.shape[0], 1, img_rows, img_cols)\n",
    "    X_test_cnn = X_test.reshape(X_test.shape[0], 1, img_rows, img_cols)\n",
    "    input_shape = (1, img_rows, img_cols)\n",
    "else:\n",
    "    X_train_cnn = X_train.reshape(X_train.shape[0], img_rows, img_cols, 1)\n",
    "    X_test_cnn = X_test.reshape(X_test.shape[0], img_rows, img_cols, 1)\n",
    "    input_shape = (img_rows, img_cols, 1)\n",
    "\n",
    "# convert class vectors to binary class matrices\n",
    "y_train_cnn = keras.utils.to_categorical(y_train, num_classes)\n",
    "y_test_cnn = keras.utils.to_categorical(y_test, num_classes)\n",
    "\n",
    "'''\n",
    "LENET ARCHITECTURE\n",
    "input -> Convolution -> MaxPooling ->Convolution -> MaxPooling -> Flatten -> fully-connected NN\n",
    "with optional dropout(s) as overfitting prevention\n",
    "'''\n",
    "model_cnn = Sequential()\n",
    "model_cnn.add(Conv2D(32, kernel_size=(3, 3),\n",
    "                 activation='relu',\n",
    "                 input_shape=input_shape))\n",
    "model_cnn.add(MaxPooling2D(pool_size=(2, 2)))\n",
    "model_cnn.add(Conv2D(64, (3, 3), activation='relu'))\n",
    "model_cnn.add(MaxPooling2D(pool_size=(2, 2)))\n",
    "model_cnn.add(Dropout(0.2))\n",
    "model_cnn.add(Flatten())\n",
    "model_cnn.add(Dense(128, activation='relu', name=\"output_lenet\"))\n",
    "model_cnn.add(Dropout(0.5))\n",
    "model_cnn.add(Dense(num_classes, activation='softmax'))\n",
    "\n",
    "model_cnn.compile(loss=keras.losses.categorical_crossentropy,\n",
    "              optimizer=keras.optimizers.Adadelta(),\n",
    "              metrics=['accuracy'])\n",
    "\n",
    "model_cnn.fit(X_train_cnn, y_train_cnn,\n",
    "          batch_size=batch_size,\n",
    "          epochs=epochs,\n",
    "          verbose=1,\n",
    "          validation_split=0.1)\n",
    "score = model_cnn.evaluate(X_test_cnn, y_test_cnn, verbose=0)\n",
    "print('Test loss:', score[0])\n",
    "print('Test accuracy:', score[1])"
   ]
  },
  {
   "cell_type": "code",
   "execution_count": 18,
   "metadata": {},
   "outputs": [],
   "source": [
    "intermediate_layer_model = Model(inputs=model_cnn.input,\n",
    "                                 outputs=model_cnn.get_layer(\"output_lenet\").output)\n",
    "X_train_lenet = intermediate_layer_model.predict(X_train_cnn)\n",
    "X_test_lenet = intermediate_layer_model.predict(X_test_cnn)"
   ]
  },
  {
   "cell_type": "code",
   "execution_count": 19,
   "metadata": {},
   "outputs": [
    {
     "name": "stdout",
     "output_type": "stream",
     "text": [
      "Prediction completed. Duration: 0.6s\n",
      "The accuracy is: 91.10%\n",
      "The log-likelihood is: 329627.16\n",
      "The average log-likelihood for correct predictions is: 39.30\n",
      "The average log-likelihood for wrong predictions is: -31.91\n"
     ]
    }
   ],
   "source": [
    "model3 = NaiveBayes()\n",
    "model3.fit(X_train_lenet, y_train)\n",
    "start = time.time()\n",
    "y_pred = model3.predict(X_test_lenet, True)\n",
    "print(\"Prediction completed. Duration: %.1fs\" % (time.time() - start))\n",
    "show_performance(fashion_mnist_test[\"label\"], y_pred[:,0], y_pred[:,1])"
   ]
  },
  {
   "cell_type": "markdown",
   "metadata": {},
   "source": [
    "<div class=\"alert alert-success\">\n",
    "We have hugely improved the performances of our algorithm. Thanks to Convolutional Neural Networks we got a new dimensional space (the output of convolutional layers) where we exploit patch informations of the images. I preferred to get the output of the first layer of the fully connected NN, using it as a sort of encoder. The result is almost the same but in this case we are dealing with only 128 features!<br><br>Just notice that the fully-connected Neural Network after the convolutional layers did just a little better: we can conclude that a NN brings a negligible improvement overall, all the \"magic\" happens in the convolutional layers; then we can use any model and obtaining almost the same (really good) results.\n",
    "</div>"
   ]
  },
  {
   "cell_type": "markdown",
   "metadata": {},
   "source": [
    "## 5.2 CNN for CIFAR10"
   ]
  },
  {
   "cell_type": "code",
   "execution_count": 131,
   "metadata": {},
   "outputs": [
    {
     "name": "stdout",
     "output_type": "stream",
     "text": [
      "Train on 40000 samples, validate on 10000 samples\n",
      "Epoch 1/15\n",
      "40000/40000 [==============================] - 74s 2ms/step - loss: 1.9492 - acc: 0.2929 - val_loss: 1.6823 - val_acc: 0.4042\n",
      "Epoch 2/15\n",
      "40000/40000 [==============================] - 73s 2ms/step - loss: 1.6354 - acc: 0.4182 - val_loss: 1.4987 - val_acc: 0.4631\n",
      "Epoch 3/15\n",
      "40000/40000 [==============================] - 59s 1ms/step - loss: 1.5118 - acc: 0.4651 - val_loss: 1.3581 - val_acc: 0.5207\n",
      "Epoch 4/15\n",
      "40000/40000 [==============================] - 58s 1ms/step - loss: 1.4309 - acc: 0.4924 - val_loss: 1.3292 - val_acc: 0.5275\n",
      "Epoch 5/15\n",
      "40000/40000 [==============================] - 59s 1ms/step - loss: 1.3763 - acc: 0.5129 - val_loss: 1.2705 - val_acc: 0.5568\n",
      "Epoch 6/15\n",
      "40000/40000 [==============================] - 59s 1ms/step - loss: 1.3374 - acc: 0.5269 - val_loss: 1.2271 - val_acc: 0.5680\n",
      "Epoch 7/15\n",
      "40000/40000 [==============================] - 80s 2ms/step - loss: 1.3003 - acc: 0.5445 - val_loss: 1.2004 - val_acc: 0.5801\n",
      "Epoch 8/15\n",
      "40000/40000 [==============================] - 83s 2ms/step - loss: 1.2771 - acc: 0.5507 - val_loss: 1.1996 - val_acc: 0.5802\n",
      "Epoch 9/15\n",
      "40000/40000 [==============================] - 62s 2ms/step - loss: 1.2490 - acc: 0.5611 - val_loss: 1.2356 - val_acc: 0.5620\n",
      "Epoch 10/15\n",
      "40000/40000 [==============================] - 63s 2ms/step - loss: 1.2242 - acc: 0.5672 - val_loss: 1.1753 - val_acc: 0.5931\n",
      "Epoch 11/15\n",
      "40000/40000 [==============================] - 63s 2ms/step - loss: 1.2096 - acc: 0.5740 - val_loss: 1.1083 - val_acc: 0.6099\n",
      "Epoch 12/15\n",
      "40000/40000 [==============================] - 60s 1ms/step - loss: 1.1833 - acc: 0.5860 - val_loss: 1.1104 - val_acc: 0.6125\n",
      "Epoch 13/15\n",
      "40000/40000 [==============================] - 54s 1ms/step - loss: 1.1707 - acc: 0.5898 - val_loss: 1.0897 - val_acc: 0.6243\n",
      "Epoch 14/15\n",
      "40000/40000 [==============================] - 61s 2ms/step - loss: 1.1583 - acc: 0.5974 - val_loss: 1.1094 - val_acc: 0.6158\n",
      "Epoch 15/15\n",
      "40000/40000 [==============================] - 56s 1ms/step - loss: 1.1356 - acc: 0.6015 - val_loss: 1.1377 - val_acc: 0.5988\n",
      "Test loss: 1.1456427457809448\n",
      "Test accuracy: 0.5924\n"
     ]
    }
   ],
   "source": [
    "batch_size = 128\n",
    "num_classes = 10\n",
    "epochs = 15\n",
    "\n",
    "# input image dimensions\n",
    "img_rows, img_cols = 32, 32\n",
    "\n",
    "# the data, split between train and test sets\n",
    "X_train = cifar10_train.drop(columns=\"class\").as_matrix() / 255\n",
    "y_train = cifar10_train[\"class\"].as_matrix()\n",
    "X_test = cifar10_test.drop(columns=\"class\").as_matrix() / 255\n",
    "y_test = cifar10_test[\"class\"].as_matrix()\n",
    "\n",
    "# choose the correct shape of the input (flatten is not good!) based on our running libraries\n",
    "if K.image_data_format() == 'channels_first':\n",
    "    X_train_cnn = X_train.reshape(X_train.shape[0], 3, img_rows, img_cols)\n",
    "    X_test_cnn = X_test.reshape(X_test.shape[0], 3, img_rows, img_cols)\n",
    "    input_shape = (3, img_rows, img_cols)\n",
    "else:\n",
    "    X_train_cnn = X_train.reshape(X_train.shape[0], img_rows, img_cols, 3)\n",
    "    X_test_cnn = X_test.reshape(X_test.shape[0], img_rows, img_cols, 3)\n",
    "    input_shape = (img_rows, img_cols, 3)\n",
    "\n",
    "# convert class vectors to binary class matrices\n",
    "y_train_cnn = keras.utils.to_categorical(y_train, num_classes)\n",
    "y_test_cnn = keras.utils.to_categorical(y_test, num_classes)\n",
    "\n",
    "'''\n",
    "LENET ARCHITECTURE\n",
    "input -> Convolution -> MaxPooling ->Convolution -> MaxPooling -> Flatten -> fully-connected NN\n",
    "with optional dropout(s) as overfitting prevention\n",
    "'''\n",
    "model_cnn = Sequential()\n",
    "model_cnn.add(Conv2D(32, kernel_size=(3, 3),\n",
    "                 activation='relu',\n",
    "                 input_shape=input_shape))\n",
    "model_cnn.add(MaxPooling2D(pool_size=(2, 2)))\n",
    "model_cnn.add(Conv2D(64, (3, 3), activation='relu'))\n",
    "model_cnn.add(MaxPooling2D(pool_size=(2, 2)))\n",
    "model_cnn.add(Dropout(0.3))\n",
    "model_cnn.add(Flatten())\n",
    "model_cnn.add(Dense(128, activation='relu', name=\"output_lenet\"))\n",
    "model_cnn.add(Dropout(0.5))\n",
    "model_cnn.add(Dense(num_classes, activation='softmax'))\n",
    "\n",
    "model_cnn.compile(loss=keras.losses.categorical_crossentropy,\n",
    "              optimizer=keras.optimizers.Adadelta(),\n",
    "              metrics=['accuracy'])\n",
    "\n",
    "model_cnn.fit(X_train_cnn, y_train_cnn,\n",
    "          batch_size=batch_size,\n",
    "          epochs=epochs,\n",
    "          verbose=1,\n",
    "          validation_split=0.1)\n",
    "score = model_cnn.evaluate(X_test_cnn, y_test_cnn, verbose=0)\n",
    "print('Test loss:', score[0])\n",
    "print('Test accuracy:', score[1])"
   ]
  },
  {
   "cell_type": "code",
   "execution_count": 134,
   "metadata": {},
   "outputs": [],
   "source": [
    "intermediate_layer_model = Model(inputs=model_cnn.input,\n",
    "                                 outputs=model_cnn.get_layer(\"output_lenet\").output)\n",
    "X_train_lenet = intermediate_layer_model.predict(X_train_cnn)\n",
    "X_test_lenet = intermediate_layer_model.predict(X_test_cnn)"
   ]
  },
  {
   "cell_type": "code",
   "execution_count": 135,
   "metadata": {},
   "outputs": [
    {
     "name": "stdout",
     "output_type": "stream",
     "text": [
      "Prediction completed. Duration: 0.5s\n",
      "The accuracy is: 60.39%\n",
      "The log-likelihood is: -113722.36\n",
      "The average log-likelihood for correct predictions is: -9.84\n",
      "The average log-likelihood for wrong predictions is: -13.71\n"
     ]
    }
   ],
   "source": [
    "model4 = NaiveBayes()\n",
    "model4.fit(X_train_lenet, y_train)\n",
    "start = time.time()\n",
    "y_pred = model4.predict(X_test_lenet, True)\n",
    "print(\"Prediction completed. Duration: %.1fs\" % (time.time() - start))\n",
    "show_performance(cifar10_test[\"class\"], y_pred[:,0], y_pred[:,1])"
   ]
  },
  {
   "cell_type": "markdown",
   "metadata": {},
   "source": [
    "<div class=\"alert alert-success\">\n",
    "Again, we have hugely improved the performances of our algorithm. But 60% accuracy is still a not so good result. For this reason I decided to go further, applying one of the pre-processing suggestion: converting the images to grayscale.<br><br>Just notice that in this case the Naïve Bayes even did better than the fully-connected NN.\n",
    "</div>"
   ]
  },
  {
   "cell_type": "markdown",
   "metadata": {},
   "source": [
    "## 5.3 CNN for CIFAR10-grayscale"
   ]
  },
  {
   "cell_type": "code",
   "execution_count": 62,
   "metadata": {},
   "outputs": [],
   "source": [
    "m = cifar10_train.as_matrix()\n",
    "n = cifar10_test.as_matrix()"
   ]
  },
  {
   "cell_type": "code",
   "execution_count": 63,
   "metadata": {},
   "outputs": [],
   "source": [
    "cifar10gs_train = (0.2126*m[:,:1024] + 0.7152*m[:,1024:2048] + 0.0722*m[:,2048:3072])/255\n",
    "cifar10gs_test = (0.2126*n[:,:1024] + 0.7152*n[:,1024:2048] + 0.0722*n[:,2048:3072])/255"
   ]
  },
  {
   "cell_type": "code",
   "execution_count": 64,
   "metadata": {},
   "outputs": [],
   "source": [
    "model = NaiveBayes()\n",
    "y_train = cifar10_train[\"class\"].as_matrix()\n",
    "model.fit(cifar10gs_train, y_train)"
   ]
  },
  {
   "cell_type": "code",
   "execution_count": 65,
   "metadata": {},
   "outputs": [
    {
     "name": "stdout",
     "output_type": "stream",
     "text": [
      "Prediction completed. Duration: 3.4s\n",
      "The accuracy is: 26.84%\n",
      "The log-likelihood is: -5649315.10\n",
      "The average log-likelihood for correct predictions is: -567.30\n",
      "The average log-likelihood for wrong predictions is: -564.06\n"
     ]
    }
   ],
   "source": [
    "start = time.time()\n",
    "y_pred = model.predict(cifar10gs_test, True)\n",
    "print(\"Prediction completed. Duration: %.1fs\" % (time.time() - start))\n",
    "show_performance(cifar10_test[\"class\"], y_pred[:,0], y_pred[:,1])"
   ]
  },
  {
   "cell_type": "markdown",
   "metadata": {},
   "source": [
    "<div class=\"alert alert-success\">\n",
    "The accuracy is worse than before but it is normal: transforming to grayscale we actually have increased the correlation between features. The goal is to check if grayscale images are better in order to get better patch informations from the CNN. \n",
    "</div>"
   ]
  },
  {
   "cell_type": "code",
   "execution_count": 66,
   "metadata": {},
   "outputs": [
    {
     "name": "stdout",
     "output_type": "stream",
     "text": [
      "Train on 45000 samples, validate on 5000 samples\n",
      "Epoch 1/15\n",
      "45000/45000 [==============================] - 54s 1ms/step - loss: 1.9740 - acc: 0.2821 - val_loss: 1.6288 - val_acc: 0.4236\n",
      "Epoch 2/15\n",
      "45000/45000 [==============================] - 56s 1ms/step - loss: 1.5962 - acc: 0.4345 - val_loss: 1.3979 - val_acc: 0.5072\n",
      "Epoch 3/15\n",
      "45000/45000 [==============================] - 52s 1ms/step - loss: 1.4067 - acc: 0.5090 - val_loss: 1.2325 - val_acc: 0.5776\n",
      "Epoch 4/15\n",
      "45000/45000 [==============================] - 53s 1ms/step - loss: 1.2909 - acc: 0.5527 - val_loss: 1.1512 - val_acc: 0.6034\n",
      "Epoch 5/15\n",
      "45000/45000 [==============================] - 62s 1ms/step - loss: 1.2102 - acc: 0.5828 - val_loss: 1.1111 - val_acc: 0.6204\n",
      "Epoch 6/15\n",
      "45000/45000 [==============================] - 63s 1ms/step - loss: 1.1496 - acc: 0.5999 - val_loss: 1.0751 - val_acc: 0.6232\n",
      "Epoch 7/15\n",
      "45000/45000 [==============================] - 56s 1ms/step - loss: 1.0949 - acc: 0.6202 - val_loss: 1.0253 - val_acc: 0.6488\n",
      "Epoch 8/15\n",
      "45000/45000 [==============================] - 50s 1ms/step - loss: 1.0513 - acc: 0.6390 - val_loss: 1.0392 - val_acc: 0.6484\n",
      "Epoch 9/15\n",
      "45000/45000 [==============================] - 64s 1ms/step - loss: 1.0086 - acc: 0.6510 - val_loss: 0.9925 - val_acc: 0.6574\n",
      "Epoch 10/15\n",
      "45000/45000 [==============================] - 62s 1ms/step - loss: 0.9682 - acc: 0.6649 - val_loss: 0.9523 - val_acc: 0.6692\n",
      "Epoch 11/15\n",
      "45000/45000 [==============================] - 59s 1ms/step - loss: 0.9327 - acc: 0.6766 - val_loss: 0.9387 - val_acc: 0.6778\n",
      "Epoch 12/15\n",
      "45000/45000 [==============================] - 56s 1ms/step - loss: 0.9012 - acc: 0.6886 - val_loss: 0.9180 - val_acc: 0.6836\n",
      "Epoch 13/15\n",
      "45000/45000 [==============================] - 58s 1ms/step - loss: 0.8720 - acc: 0.6975 - val_loss: 0.9386 - val_acc: 0.6738\n",
      "Epoch 14/15\n",
      "45000/45000 [==============================] - 56s 1ms/step - loss: 0.8408 - acc: 0.7083 - val_loss: 0.9152 - val_acc: 0.6812\n",
      "Epoch 15/15\n",
      "45000/45000 [==============================] - 57s 1ms/step - loss: 0.8162 - acc: 0.7160 - val_loss: 0.9641 - val_acc: 0.6790\n",
      "Test loss: 1.0091553197860719\n",
      "Test accuracy: 0.6626\n"
     ]
    }
   ],
   "source": [
    "batch_size = 128\n",
    "num_classes = 10\n",
    "epochs = 15\n",
    "\n",
    "# input image dimensions\n",
    "img_rows, img_cols = 32, 32\n",
    "\n",
    "# the data, split between train and test sets\n",
    "X_train = cifar10gs_train\n",
    "y_train = cifar10_train[\"class\"].as_matrix()\n",
    "X_test = cifar10gs_test\n",
    "y_test = cifar10_test[\"class\"].as_matrix()\n",
    "\n",
    "# choose the correct shape of the input (flatten is not good!) based on our running libraries\n",
    "if K.image_data_format() == 'channels_first':\n",
    "    X_train_cnn = X_train.reshape(X_train.shape[0], 1, img_rows, img_cols)\n",
    "    X_test_cnn = X_test.reshape(X_test.shape[0], 1, img_rows, img_cols)\n",
    "    input_shape = (3, img_rows, img_cols)\n",
    "else:\n",
    "    X_train_cnn = X_train.reshape(X_train.shape[0], img_rows, img_cols, 1)\n",
    "    X_test_cnn = X_test.reshape(X_test.shape[0], img_rows, img_cols, 1)\n",
    "    input_shape = (img_rows, img_cols, 1)\n",
    "\n",
    "# convert class vectors to binary class matrices\n",
    "y_train_cnn = keras.utils.to_categorical(y_train, num_classes)\n",
    "y_test_cnn = keras.utils.to_categorical(y_test, num_classes)\n",
    "\n",
    "'''\n",
    "LENET ARCHITECTURE\n",
    "input -> Convolution -> MaxPooling ->Convolution -> MaxPooling -> Flatten -> fully-connected NN\n",
    "with optional dropout(s) as overfitting prevention\n",
    "'''\n",
    "model_cnn = Sequential()\n",
    "model_cnn.add(Conv2D(32, kernel_size=(3, 3),\n",
    "                 activation='relu',\n",
    "                 input_shape=input_shape))\n",
    "model_cnn.add(MaxPooling2D(pool_size=(2, 2)))\n",
    "model_cnn.add(Conv2D(64, (3, 3), activation='relu'))\n",
    "model_cnn.add(MaxPooling2D(pool_size=(2, 2)))\n",
    "model_cnn.add(Flatten())\n",
    "model_cnn.add(Dense(128, activation='relu', name=\"output_lenet\"))\n",
    "model_cnn.add(Dropout(0.5))\n",
    "model_cnn.add(Dense(num_classes, activation='softmax'))\n",
    "\n",
    "model_cnn.compile(loss=keras.losses.categorical_crossentropy,\n",
    "              optimizer=keras.optimizers.Adadelta(),\n",
    "              metrics=['accuracy'])\n",
    "\n",
    "model_cnn.fit(X_train_cnn, y_train_cnn,\n",
    "          batch_size=batch_size,\n",
    "          epochs=epochs,\n",
    "          verbose=1,\n",
    "          validation_split=0.1)\n",
    "score = model_cnn.evaluate(X_test_cnn, y_test_cnn, verbose=0)\n",
    "print('Test loss:', score[0])\n",
    "print('Test accuracy:', score[1])"
   ]
  },
  {
   "cell_type": "markdown",
   "metadata": {},
   "source": [
    "<div class=\"alert alert-success\">\n",
    "We run the model with the same configuration and we can immediately see that performances, using a fully-connected NN, are better. We expect a similar result for Naïve Bayes. \n",
    "</div>"
   ]
  },
  {
   "cell_type": "code",
   "execution_count": 67,
   "metadata": {},
   "outputs": [],
   "source": [
    "intermediate_layer_model = Model(inputs=model_cnn.input,\n",
    "                                 outputs=model_cnn.get_layer(\"output_lenet\").output)\n",
    "X_train_lenet = intermediate_layer_model.predict(X_train_cnn)\n",
    "X_test_lenet = intermediate_layer_model.predict(X_test_cnn)"
   ]
  },
  {
   "cell_type": "code",
   "execution_count": 74,
   "metadata": {},
   "outputs": [
    {
     "name": "stdout",
     "output_type": "stream",
     "text": [
      "Prediction completed. Duration: 0.6s\n",
      "The accuracy is: 66.08%\n",
      "The log-likelihood is: -736838.23\n",
      "The average log-likelihood for correct predictions is: -71.49\n",
      "The average log-likelihood for wrong predictions is: -77.96\n"
     ]
    }
   ],
   "source": [
    "model5 = NaiveBayes()\n",
    "model5.fit(X_train_lenet, y_train)\n",
    "start = time.time()\n",
    "y_pred = model5.predict(X_test_lenet, True)\n",
    "print(\"Prediction completed. Duration: %.1fs\" % (time.time() - start))\n",
    "show_performance(cifar10_test[\"class\"], y_pred[:,0], y_pred[:,1])"
   ]
  },
  {
   "cell_type": "markdown",
   "metadata": {},
   "source": [
    "<div class=\"alert alert-success\">\n",
    "As expected we improved again the model: the grayscale images allow us to extract better features with the CNN. Of course the accuracy is not too high (especially with respect to what we obtained with Fashion MNIST) but we can go on in this direction to improve again and again.\n",
    "</div>"
   ]
  },
  {
   "cell_type": "code",
   "execution_count": null,
   "metadata": {},
   "outputs": [],
   "source": []
  }
 ],
 "metadata": {
  "kernelspec": {
   "display_name": "Python 3",
   "language": "python",
   "name": "python3"
  },
  "language_info": {
   "codemirror_mode": {
    "name": "ipython",
    "version": 3
   },
   "file_extension": ".py",
   "mimetype": "text/x-python",
   "name": "python",
   "nbconvert_exporter": "python",
   "pygments_lexer": "ipython3",
   "version": "3.6.4"
  }
 },
 "nbformat": 4,
 "nbformat_minor": 2
}
